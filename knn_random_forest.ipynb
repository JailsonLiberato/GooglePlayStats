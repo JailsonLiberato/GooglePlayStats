{
 "cells": [
  {
   "cell_type": "markdown",
   "metadata": {
    "_cell_guid": "b1076dfc-b9ad-4769-8c92-a6c4dae69d19",
    "_uuid": "8f2839f25d086af736a60e9eeb907d3b93b6e0e5"
   },
   "source": [
    "In this Python notebook, K-nearest neighbors and random forest algorithms will be applied to predict app ratings on Google play store."
   ]
  },
  {
   "cell_type": "code",
   "execution_count": 1,
   "metadata": {
    "_cell_guid": "79c7e3d0-c299-4dcb-8224-4455121ee9b0",
    "_uuid": "d629ff2d2480ee46fbb7e2d37f6b5fab8052498a"
   },
   "outputs": [],
   "source": [
    "import re\n",
    "import sys\n",
    "\n",
    "import time\n",
    "import datetime\n",
    "import statistics\n",
    "\n",
    "import numpy as np\n",
    "import pandas as pd\n",
    "\n",
    "import seaborn as sns\n",
    "import matplotlib.pyplot as plt\n",
    "import matplotlib.ticker as ticker\n",
    "\n",
    "from sklearn import metrics\n",
    "from sklearn import preprocessing\n",
    "from sklearn.neighbors import KNeighborsRegressor\n",
    "from sklearn.ensemble import RandomForestRegressor\n",
    "from sklearn.model_selection import train_test_split\n",
    "from sklearn.metrics import confusion_matrix\n",
    "\n",
    "# Loading the data\n",
    "df = pd.read_csv('./files/googleplaystore.csv')"
   ]
  },
  {
   "cell_type": "code",
   "execution_count": 2,
   "metadata": {
    "_uuid": "49170f1e1019110b6fa001ae3fc9e02a05dc48de"
   },
   "outputs": [],
   "source": [
    "%matplotlib inline"
   ]
  },
  {
   "cell_type": "code",
   "execution_count": 3,
   "metadata": {
    "_uuid": "2068b367a50157fbefeff3b44046a41a344b9ecc"
   },
   "outputs": [],
   "source": [
    "sns.set(style='darkgrid')\n",
    "sns.set_palette('PuBuGn_d')"
   ]
  },
  {
   "cell_type": "markdown",
   "metadata": {
    "_uuid": "349b8414dbdc6f0a41ce89d838b711927ffef552"
   },
   "source": [
    "# Data Exploration and Cleaning"
   ]
  },
  {
   "cell_type": "code",
   "execution_count": 4,
   "metadata": {
    "_uuid": "3da24a5c41129bf404fb5904b57f1a261b5ba7b0"
   },
   "outputs": [
    {
     "data": {
      "text/html": [
       "<div>\n",
       "<style scoped>\n",
       "    .dataframe tbody tr th:only-of-type {\n",
       "        vertical-align: middle;\n",
       "    }\n",
       "\n",
       "    .dataframe tbody tr th {\n",
       "        vertical-align: top;\n",
       "    }\n",
       "\n",
       "    .dataframe thead th {\n",
       "        text-align: right;\n",
       "    }\n",
       "</style>\n",
       "<table border=\"1\" class=\"dataframe\">\n",
       "  <thead>\n",
       "    <tr style=\"text-align: right;\">\n",
       "      <th></th>\n",
       "      <th>App</th>\n",
       "      <th>Category</th>\n",
       "      <th>Rating</th>\n",
       "      <th>Reviews</th>\n",
       "      <th>Size</th>\n",
       "      <th>Installs</th>\n",
       "      <th>Type</th>\n",
       "      <th>Price</th>\n",
       "      <th>Content Rating</th>\n",
       "      <th>Genres</th>\n",
       "      <th>Last Updated</th>\n",
       "      <th>Current Ver</th>\n",
       "      <th>Android Ver</th>\n",
       "    </tr>\n",
       "  </thead>\n",
       "  <tbody>\n",
       "    <tr>\n",
       "      <th>0</th>\n",
       "      <td>Photo Editor &amp; Candy Camera &amp; Grid &amp; ScrapBook</td>\n",
       "      <td>ART_AND_DESIGN</td>\n",
       "      <td>4.1</td>\n",
       "      <td>159</td>\n",
       "      <td>19M</td>\n",
       "      <td>10,000+</td>\n",
       "      <td>Free</td>\n",
       "      <td>0</td>\n",
       "      <td>Everyone</td>\n",
       "      <td>Art &amp; Design</td>\n",
       "      <td>January 7, 2018</td>\n",
       "      <td>1.0.0</td>\n",
       "      <td>4.0.3 and up</td>\n",
       "    </tr>\n",
       "    <tr>\n",
       "      <th>1</th>\n",
       "      <td>Coloring book moana</td>\n",
       "      <td>ART_AND_DESIGN</td>\n",
       "      <td>3.9</td>\n",
       "      <td>967</td>\n",
       "      <td>14M</td>\n",
       "      <td>500,000+</td>\n",
       "      <td>Free</td>\n",
       "      <td>0</td>\n",
       "      <td>Everyone</td>\n",
       "      <td>Art &amp; Design;Pretend Play</td>\n",
       "      <td>January 15, 2018</td>\n",
       "      <td>2.0.0</td>\n",
       "      <td>4.0.3 and up</td>\n",
       "    </tr>\n",
       "    <tr>\n",
       "      <th>2</th>\n",
       "      <td>U Launcher Lite – FREE Live Cool Themes, Hide ...</td>\n",
       "      <td>ART_AND_DESIGN</td>\n",
       "      <td>4.7</td>\n",
       "      <td>87510</td>\n",
       "      <td>8.7M</td>\n",
       "      <td>5,000,000+</td>\n",
       "      <td>Free</td>\n",
       "      <td>0</td>\n",
       "      <td>Everyone</td>\n",
       "      <td>Art &amp; Design</td>\n",
       "      <td>August 1, 2018</td>\n",
       "      <td>1.2.4</td>\n",
       "      <td>4.0.3 and up</td>\n",
       "    </tr>\n",
       "    <tr>\n",
       "      <th>3</th>\n",
       "      <td>Sketch - Draw &amp; Paint</td>\n",
       "      <td>ART_AND_DESIGN</td>\n",
       "      <td>4.5</td>\n",
       "      <td>215644</td>\n",
       "      <td>25M</td>\n",
       "      <td>50,000,000+</td>\n",
       "      <td>Free</td>\n",
       "      <td>0</td>\n",
       "      <td>Teen</td>\n",
       "      <td>Art &amp; Design</td>\n",
       "      <td>June 8, 2018</td>\n",
       "      <td>Varies with device</td>\n",
       "      <td>4.2 and up</td>\n",
       "    </tr>\n",
       "    <tr>\n",
       "      <th>4</th>\n",
       "      <td>Pixel Draw - Number Art Coloring Book</td>\n",
       "      <td>ART_AND_DESIGN</td>\n",
       "      <td>4.3</td>\n",
       "      <td>967</td>\n",
       "      <td>2.8M</td>\n",
       "      <td>100,000+</td>\n",
       "      <td>Free</td>\n",
       "      <td>0</td>\n",
       "      <td>Everyone</td>\n",
       "      <td>Art &amp; Design;Creativity</td>\n",
       "      <td>June 20, 2018</td>\n",
       "      <td>1.1</td>\n",
       "      <td>4.4 and up</td>\n",
       "    </tr>\n",
       "  </tbody>\n",
       "</table>\n",
       "</div>"
      ],
      "text/plain": [
       "                                                 App        Category  Rating  \\\n",
       "0     Photo Editor & Candy Camera & Grid & ScrapBook  ART_AND_DESIGN     4.1   \n",
       "1                                Coloring book moana  ART_AND_DESIGN     3.9   \n",
       "2  U Launcher Lite – FREE Live Cool Themes, Hide ...  ART_AND_DESIGN     4.7   \n",
       "3                              Sketch - Draw & Paint  ART_AND_DESIGN     4.5   \n",
       "4              Pixel Draw - Number Art Coloring Book  ART_AND_DESIGN     4.3   \n",
       "\n",
       "  Reviews  Size     Installs  Type Price Content Rating  \\\n",
       "0     159   19M      10,000+  Free     0       Everyone   \n",
       "1     967   14M     500,000+  Free     0       Everyone   \n",
       "2   87510  8.7M   5,000,000+  Free     0       Everyone   \n",
       "3  215644   25M  50,000,000+  Free     0           Teen   \n",
       "4     967  2.8M     100,000+  Free     0       Everyone   \n",
       "\n",
       "                      Genres      Last Updated         Current Ver  \\\n",
       "0               Art & Design   January 7, 2018               1.0.0   \n",
       "1  Art & Design;Pretend Play  January 15, 2018               2.0.0   \n",
       "2               Art & Design    August 1, 2018               1.2.4   \n",
       "3               Art & Design      June 8, 2018  Varies with device   \n",
       "4    Art & Design;Creativity     June 20, 2018                 1.1   \n",
       "\n",
       "    Android Ver  \n",
       "0  4.0.3 and up  \n",
       "1  4.0.3 and up  \n",
       "2  4.0.3 and up  \n",
       "3    4.2 and up  \n",
       "4    4.4 and up  "
      ]
     },
     "execution_count": 4,
     "metadata": {},
     "output_type": "execute_result"
    }
   ],
   "source": [
    "df.head()\n",
    "# Executing the above script will display the first five rows of the dataset as shown below"
   ]
  },
  {
   "cell_type": "code",
   "execution_count": 5,
   "metadata": {
    "_uuid": "735b233c0d2ba4a6b85937afbb244001789a581c"
   },
   "outputs": [
    {
     "name": "stdout",
     "output_type": "stream",
     "text": [
      "<class 'pandas.core.frame.DataFrame'>\n",
      "RangeIndex: 10841 entries, 0 to 10840\n",
      "Data columns (total 13 columns):\n",
      "App               10841 non-null object\n",
      "Category          10841 non-null object\n",
      "Rating            9367 non-null float64\n",
      "Reviews           10841 non-null object\n",
      "Size              10841 non-null object\n",
      "Installs          10841 non-null object\n",
      "Type              10840 non-null object\n",
      "Price             10841 non-null object\n",
      "Content Rating    10840 non-null object\n",
      "Genres            10841 non-null object\n",
      "Last Updated      10841 non-null object\n",
      "Current Ver       10833 non-null object\n",
      "Android Ver       10838 non-null object\n",
      "dtypes: float64(1), object(12)\n",
      "memory usage: 1.1+ MB\n"
     ]
    }
   ],
   "source": [
    "# Checking the data type of the columns\n",
    "df.info()"
   ]
  },
  {
   "cell_type": "markdown",
   "metadata": {
    "_uuid": "1f4ec19425f3dd590aafc8b03a8d0b080997459e"
   },
   "source": [
    "The dataset has 10,841 records and 13 columns, all of them are object types except the target column (Rating) which is float"
   ]
  },
  {
   "cell_type": "markdown",
   "metadata": {},
   "source": [
    "Exploring missing data and checking if any has NaN values"
   ]
  },
  {
   "cell_type": "code",
   "execution_count": 6,
   "metadata": {
    "_uuid": "576aa2b905b02dcdf40c3f8ecf34691f003641ed"
   },
   "outputs": [
    {
     "data": {
      "text/plain": [
       "App               False\n",
       "Category          False\n",
       "Rating             True\n",
       "Reviews           False\n",
       "Size              False\n",
       "Installs          False\n",
       "Type               True\n",
       "Price             False\n",
       "Content Rating     True\n",
       "Genres            False\n",
       "Last Updated      False\n",
       "Current Ver        True\n",
       "Android Ver        True\n",
       "dtype: bool"
      ]
     },
     "execution_count": 6,
     "metadata": {},
     "output_type": "execute_result"
    },
    {
     "data": {
      "image/png": "[encoded data removed]",
      "text/plain": [
       "<Figure size 504x360 with 2 Axes>"
      ]
     },
     "metadata": {},
     "output_type": "display_data"
    }
   ],
   "source": [
    "plt.figure(figsize=(7, 5))\n",
    "sns.heatmap(df.isnull(), cmap='viridis')\n",
    "df.isnull().any()"
   ]
  },
  {
   "cell_type": "markdown",
   "metadata": {
    "_uuid": "cb7889da4b45ce1de35aba6bebccdf7e54b82581"
   },
   "source": [
    "Looks like there are missing values in \"Rating\", \"Type\", \"Content Rating\" and \" Android Ver\". But most of these missing values in Rating column."
   ]
  },
  {
   "cell_type": "code",
   "execution_count": 7,
   "metadata": {
    "_uuid": "a1b4306e7e8ba1a972dc4a705cf4456745f3a5e2"
   },
   "outputs": [
    {
     "data": {
      "text/plain": [
       "App                  0\n",
       "Category             0\n",
       "Rating            1474\n",
       "Reviews              0\n",
       "Size                 0\n",
       "Installs             0\n",
       "Type                 1\n",
       "Price                0\n",
       "Content Rating       1\n",
       "Genres               0\n",
       "Last Updated         0\n",
       "Current Ver          8\n",
       "Android Ver          3\n",
       "dtype: int64"
      ]
     },
     "execution_count": 7,
     "metadata": {},
     "output_type": "execute_result"
    }
   ],
   "source": [
    "df.isnull().sum()"
   ]
  },
  {
   "cell_type": "markdown",
   "metadata": {
    "_uuid": "9ee9d3893b22d1239ebf94af342b085780aa8540"
   },
   "source": [
    "There are two strategies to handle missing data, either removing records with these missing values or replacing missing values with a specific value like (mean, median or mode) value of the column."
   ]
  },
  {
   "cell_type": "code",
   "execution_count": 8,
   "metadata": {
    "_uuid": "9d79d2a09533f34ba95e2e2d56de72ec4f0327a5"
   },
   "outputs": [],
   "source": [
    "# The best way to fill missing values might be using the median instead of mean.\n",
    "df['Rating'] = df['Rating'].fillna(df['Rating'].median())\n",
    "\n",
    "# Before filling null values we have to clean all non numerical values & unicode charachters \n",
    "replaces = [u'\\u00AE', u'\\u2013', u'\\u00C3', u'\\u00E3', u'\\u00B3', '[', ']', \"'\"]\n",
    "for i in replaces:\n",
    "\tdf['Current Ver'] = df['Current Ver'].astype(str).apply(lambda x : x.replace(i, ''))\n",
    "\n",
    "regex = [r'[-+|/:/;(_)@]', r'\\s+', r'[A-Za-z]+']\n",
    "for j in regex:\n",
    "\tdf['Current Ver'] = df['Current Ver'].astype(str).apply(lambda x : re.sub(j, '0', x))\n",
    "\n",
    "df['Current Ver'] = df['Current Ver'].astype(str).apply(lambda x : x.replace('.', ',',1).replace('.', '').replace(',', '.',1)).astype(float)\n",
    "df['Current Ver'] = df['Current Ver'].fillna(df['Current Ver'].median())"
   ]
  },
  {
   "cell_type": "code",
   "execution_count": 9,
   "metadata": {
    "_uuid": "04a542636ef4c49e467e45368ef5f4e40920210a"
   },
   "outputs": [
    {
     "data": {
      "text/plain": [
       "array(['ART_AND_DESIGN', 'AUTO_AND_VEHICLES', 'BEAUTY',\n",
       "       'BOOKS_AND_REFERENCE', 'BUSINESS', 'COMICS', 'COMMUNICATION',\n",
       "       'DATING', 'EDUCATION', 'ENTERTAINMENT', 'EVENTS', 'FINANCE',\n",
       "       'FOOD_AND_DRINK', 'HEALTH_AND_FITNESS', 'HOUSE_AND_HOME',\n",
       "       'LIBRARIES_AND_DEMO', 'LIFESTYLE', 'GAME', 'FAMILY', 'MEDICAL',\n",
       "       'SOCIAL', 'SHOPPING', 'PHOTOGRAPHY', 'SPORTS', 'TRAVEL_AND_LOCAL',\n",
       "       'TOOLS', 'PERSONALIZATION', 'PRODUCTIVITY', 'PARENTING', 'WEATHER',\n",
       "       'VIDEO_PLAYERS', 'NEWS_AND_MAGAZINES', 'MAPS_AND_NAVIGATION',\n",
       "       '1.9'], dtype=object)"
      ]
     },
     "execution_count": 9,
     "metadata": {},
     "output_type": "execute_result"
    }
   ],
   "source": [
    "# Count the number of unique values in category column \n",
    "df['Category'].unique()"
   ]
  },
  {
   "cell_type": "code",
   "execution_count": 10,
   "metadata": {
    "_uuid": "b5ac20b6e1fa3611ffc1fc2b2e552636729f0324"
   },
   "outputs": [
    {
     "data": {
      "text/html": [
       "<div>\n",
       "<style scoped>\n",
       "    .dataframe tbody tr th:only-of-type {\n",
       "        vertical-align: middle;\n",
       "    }\n",
       "\n",
       "    .dataframe tbody tr th {\n",
       "        vertical-align: top;\n",
       "    }\n",
       "\n",
       "    .dataframe thead th {\n",
       "        text-align: right;\n",
       "    }\n",
       "</style>\n",
       "<table border=\"1\" class=\"dataframe\">\n",
       "  <thead>\n",
       "    <tr style=\"text-align: right;\">\n",
       "      <th></th>\n",
       "      <th>App</th>\n",
       "      <th>Category</th>\n",
       "      <th>Rating</th>\n",
       "      <th>Reviews</th>\n",
       "      <th>Size</th>\n",
       "      <th>Installs</th>\n",
       "      <th>Type</th>\n",
       "      <th>Price</th>\n",
       "      <th>Content Rating</th>\n",
       "      <th>Genres</th>\n",
       "      <th>Last Updated</th>\n",
       "      <th>Current Ver</th>\n",
       "      <th>Android Ver</th>\n",
       "    </tr>\n",
       "  </thead>\n",
       "  <tbody>\n",
       "    <tr>\n",
       "      <th>10472</th>\n",
       "      <td>Life Made WI-Fi Touchscreen Photo Frame</td>\n",
       "      <td>1.9</td>\n",
       "      <td>19.0</td>\n",
       "      <td>3.0M</td>\n",
       "      <td>1,000+</td>\n",
       "      <td>Free</td>\n",
       "      <td>0</td>\n",
       "      <td>Everyone</td>\n",
       "      <td>NaN</td>\n",
       "      <td>February 11, 2018</td>\n",
       "      <td>1.0.19</td>\n",
       "      <td>4.0</td>\n",
       "      <td>NaN</td>\n",
       "    </tr>\n",
       "  </tbody>\n",
       "</table>\n",
       "</div>"
      ],
      "text/plain": [
       "                                           App Category  Rating Reviews  \\\n",
       "10472  Life Made WI-Fi Touchscreen Photo Frame      1.9    19.0    3.0M   \n",
       "\n",
       "         Size Installs Type     Price Content Rating             Genres  \\\n",
       "10472  1,000+     Free    0  Everyone            NaN  February 11, 2018   \n",
       "\n",
       "      Last Updated  Current Ver Android Ver  \n",
       "10472       1.0.19          4.0         NaN  "
      ]
     },
     "execution_count": 10,
     "metadata": {},
     "output_type": "execute_result"
    }
   ],
   "source": [
    "# Check the record  of unreasonable value which is 1.9\n",
    "i = df[df['Category'] == '1.9'].index\n",
    "df.loc[i]"
   ]
  },
  {
   "cell_type": "markdown",
   "metadata": {
    "_uuid": "530ef2300216249e4198c80ab688501f1878a1b4"
   },
   "source": [
    "It's obvious that the first value of this record is missing (App name) and all other values are respectively propagated backward starting from \"Category\" towards the \"Current Ver\"; and the last column which is \"Android Ver\" is left null. It's better to drop the entire recored instead of consider these unreasonable values while cleaning each column!\n"
   ]
  },
  {
   "cell_type": "code",
   "execution_count": 11,
   "metadata": {
    "_uuid": "b809813abfaf4bdd82c80f80a5dafc74aed576f2"
   },
   "outputs": [],
   "source": [
    "# Drop this bad column\n",
    "df = df.drop(i)"
   ]
  },
  {
   "cell_type": "code",
   "execution_count": 12,
   "metadata": {
    "_uuid": "1263c3cebbdc8abe1c3758825153cfc8dfcc6742"
   },
   "outputs": [],
   "source": [
    "# Removing NaN values\n",
    "df = df[pd.notnull(df['Last Updated'])]\n",
    "df = df[pd.notnull(df['Content Rating'])]"
   ]
  },
  {
   "cell_type": "markdown",
   "metadata": {
    "_uuid": "701c768737179ec7d949597382bcf35980ff5f32"
   },
   "source": [
    "# Categorical Data Encoding¶"
   ]
  },
  {
   "cell_type": "markdown",
   "metadata": {
    "_uuid": "bea0c8a5d124a8a3c16be3f2104238f9a6a1f6ac"
   },
   "source": [
    "Many machine learning algorithms can support categorical values without further manipulation but there are many more algorithms that do not. We need to make all data ready for the model, so we will convert categorical variables (variables that stored as text values) into numircal variables."
   ]
  },
  {
   "cell_type": "code",
   "execution_count": 13,
   "metadata": {
    "_uuid": "08b7abb6432474217a035974c70a488fb86bf3c9"
   },
   "outputs": [],
   "source": [
    "# App values encoding\n",
    "le = preprocessing.LabelEncoder()\n",
    "df['App'] = le.fit_transform(df['App'])\n",
    "# This encoder converts the values into numeric values"
   ]
  },
  {
   "cell_type": "code",
   "execution_count": 14,
   "metadata": {
    "_uuid": "e7bb75ccd2b7ee3036bf4ba6e403d80ed0ab60b9"
   },
   "outputs": [],
   "source": [
    "# Category features encoding\n",
    "category_list = df['Category'].unique().tolist() \n",
    "category_list = ['cat_' + word for word in category_list]\n",
    "df = pd.concat([df, pd.get_dummies(df['Category'], prefix='cat')], axis=1)"
   ]
  },
  {
   "cell_type": "code",
   "execution_count": 15,
   "metadata": {
    "_uuid": "f9a6acc1c827d2a68351fa61720c357be6b60d9a"
   },
   "outputs": [],
   "source": [
    "# Genres features encoding\n",
    "le = preprocessing.LabelEncoder()\n",
    "df['Genres'] = le.fit_transform(df['Genres'])"
   ]
  },
  {
   "cell_type": "code",
   "execution_count": 16,
   "metadata": {
    "_uuid": "b6c3c187c5a39f584bf688e04c2380a3e4e0faae"
   },
   "outputs": [],
   "source": [
    "# Encode Content Rating features\n",
    "le = preprocessing.LabelEncoder()\n",
    "df['Content Rating'] = le.fit_transform(df['Content Rating'])"
   ]
  },
  {
   "cell_type": "code",
   "execution_count": 17,
   "metadata": {
    "_uuid": "e6b5d46c088714ed7c36bf6a1ea940855f577df2"
   },
   "outputs": [],
   "source": [
    "# Price cealning\n",
    "df['Price'] = df['Price'].apply(lambda x : x.strip('$'))"
   ]
  },
  {
   "cell_type": "code",
   "execution_count": 18,
   "metadata": {
    "_uuid": "477c75635f893a83e5601e1f42b59d9ab32871ac"
   },
   "outputs": [],
   "source": [
    "# Installs cealning\n",
    "df['Installs'] = df['Installs'].apply(lambda x : x.strip('+').replace(',', ''))"
   ]
  },
  {
   "cell_type": "code",
   "execution_count": 19,
   "metadata": {
    "_uuid": "0a25b9b01bf8b9d30164b37760a88d196ed6f17a"
   },
   "outputs": [],
   "source": [
    "# Type encoding\n",
    "df['Type'] = pd.get_dummies(df['Type'])"
   ]
  },
  {
   "cell_type": "markdown",
   "metadata": {
    "_uuid": "37d8d15b89d3bf8f89228c5268059b809b3472d7"
   },
   "source": [
    "The above line drops the reference column and just keeps only one of the two columns as retaining this extra column does not add any new information for the modeling process, this line is exactly the same as setting drop_first parameter to True."
   ]
  },
  {
   "cell_type": "code",
   "execution_count": 20,
   "metadata": {
    "_uuid": "9c76efe031c2553674c2151604667873da8879f3"
   },
   "outputs": [],
   "source": [
    "# Last Updated encoding\n",
    "df['Last Updated'] = df['Last Updated'].apply(lambda x : time.mktime(datetime.datetime.strptime(x, '%B %d, %Y').timetuple()))"
   ]
  },
  {
   "cell_type": "code",
   "execution_count": 21,
   "metadata": {
    "_uuid": "7c832e8a86b208d73f2b895a6af938f064197989"
   },
   "outputs": [],
   "source": [
    "# Size cealning\n",
    "df['Size'] = df['Size'].apply(lambda x: x.strip('M').strip('k'))\n",
    "df[df['Size'] == 'Varies with device'] = 0"
   ]
  },
  {
   "cell_type": "markdown",
   "metadata": {
    "_uuid": "560d124e3e54f32ddc96e2673272933868ba41b6"
   },
   "source": [
    "# Evaluation Procedure"
   ]
  },
  {
   "cell_type": "markdown",
   "metadata": {
    "_uuid": "62681ed3dd0dcde4cab9509e2c2bfb03dd806811"
   },
   "source": [
    "In this section shows how k-nearest neighbors and random forests can be used to predict app ratings based on the other matrices. First, the dataset has to separate into dependent and independent variables (or features and labels). Then those variables have to split into a training and test set.\n",
    "\n",
    "During training stage we give the model both the features and the labels so it can learn to classify points based on the features."
   ]
  },
  {
   "cell_type": "markdown",
   "metadata": {
    "_uuid": "93401fd7ad1370c54ad8e993beb7e63fca2c9487"
   },
   "source": [
    "This script splits the dataset into 85% train data and 25% test data."
   ]
  },
  {
   "cell_type": "code",
   "execution_count": 22,
   "metadata": {
    "_uuid": "55091ada59112cbb0386555215456155325b4afb"
   },
   "outputs": [],
   "source": [
    "# Split data into training and testing sets\n",
    "features = ['App', 'Reviews', 'Size', 'Installs', 'Type', 'Price', 'Content Rating', 'Genres', 'Last Updated', 'Current Ver']\n",
    "features_copy = ['App', 'Reviews', 'Size', 'Installs', 'Type', 'Price', 'Content Rating', 'Genres', 'Last Updated', 'Current Ver']\n",
    "features.extend(category_list)\n",
    "X = df[features]\n",
    "y = df['Rating']"
   ]
  },
  {
   "cell_type": "code",
   "execution_count": 23,
   "metadata": {
    "_uuid": "ac520abc0daca1d026bf1220848ee15aba69e1d1"
   },
   "outputs": [],
   "source": [
    "X_train, X_test, y_train, y_test = train_test_split(X, y, test_size = 0.25, random_state = 10)"
   ]
  },
  {
   "cell_type": "markdown",
   "metadata": {},
   "source": [
    "Criação do mapa de calor para identificar as melhores correlações entre as features."
   ]
  },
  {
   "cell_type": "code",
   "execution_count": 24,
   "metadata": {},
   "outputs": [],
   "source": [
    "def generate_heatmap():\n",
    "    t = pd.DataFrame(data={\"col\": df.dtypes.index, \"type\": df.dtypes}).reset_index(drop=True)\n",
    "\n",
    "    col_names = t[\"col\"][t.type != \"object\"]\n",
    "\n",
    "    fig = plt.figure(figsize=(12,12))\n",
    "\n",
    "    ax = fig.add_subplot(1,1,1)\n",
    "    cax = ax.matshow(df.corr(), interpolation = 'nearest')\n",
    "\n",
    "    fig.colorbar(cax)\n",
    "\n",
    "    ax.xaxis.set_major_locator(ticker.MultipleLocator(1))\n",
    "    ax.yaxis.set_major_locator(ticker.MultipleLocator(1))\n",
    "\n",
    "    # ax.set_xticklabels(col_names)\n",
    "    ax.set_yticklabels(col_names);"
   ]
  },
  {
   "cell_type": "code",
   "execution_count": 25,
   "metadata": {},
   "outputs": [
    {
     "data": {
      "image/png": "[encoded data removed]",
      "text/plain": [
       "<Figure size 864x864 with 2 Axes>"
      ]
     },
     "metadata": {},
     "output_type": "display_data"
    }
   ],
   "source": [
    "generate_heatmap()"
   ]
  },
  {
   "cell_type": "markdown",
   "metadata": {
    "_uuid": "42852398ec3dbf5ef105e4e31e3dfd6cd4a6ae77"
   },
   "source": [
    "# K-Nearest Neighbors Model"
   ]
  },
  {
   "cell_type": "markdown",
   "metadata": {
    "_uuid": "f70fba87a697bb770186d56f6af1103e35a06a98"
   },
   "source": [
    "The k-nearest neighbors algorithm is based around the simple idea of predicting unknown values by matching them with the most similar known values. Building the model consists only of storing the training dataset. To make a prediction for a new data point, the algorithm finds the closest data points in the training dataset — its \"*nearest neighbors*\"."
   ]
  },
  {
   "cell_type": "code",
   "execution_count": 26,
   "metadata": {
    "_uuid": "79858eca0a12127fbd887bbe7024e421eedb29f5"
   },
   "outputs": [],
   "source": [
    "# Look at the 15 closest neighbors\n",
    "knn_model = KNeighborsRegressor(n_neighbors=15)"
   ]
  },
  {
   "cell_type": "code",
   "execution_count": 27,
   "metadata": {
    "_uuid": "5b849526d99ea583b11d0d9685d2dd53835ea858"
   },
   "outputs": [
    {
     "data": {
      "text/plain": [
       "KNeighborsRegressor(algorithm='auto', leaf_size=30, metric='minkowski',\n",
       "          metric_params=None, n_jobs=None, n_neighbors=15, p=2,\n",
       "          weights='uniform')"
      ]
     },
     "execution_count": 27,
     "metadata": {},
     "output_type": "execute_result"
    }
   ],
   "source": [
    "# Find the mean accuracy of knn regression using X_test and y_test\n",
    "knn_model.fit(X_train, y_train)"
   ]
  },
  {
   "cell_type": "code",
   "execution_count": 28,
   "metadata": {
    "_uuid": "ce1c300a79e05496e5011e71c2403503c5ba293b"
   },
   "outputs": [
    {
     "data": {
      "text/plain": [
       "'KNN Accuracy: 92.22%'"
      ]
     },
     "execution_count": 28,
     "metadata": {},
     "output_type": "execute_result"
    }
   ],
   "source": [
    "# Calculate the mean accuracy of the KNN model\n",
    "accuracy = knn_model.score(X_test,y_test)\n",
    "'KNN Accuracy: ' + str(np.round(accuracy*100, 2)) + '%'"
   ]
  },
  {
   "cell_type": "code",
   "execution_count": 29,
   "metadata": {
    "_uuid": "146f27fc487cd22460f8205726b7b93b29ad17c9"
   },
   "outputs": [
    {
     "data": {
      "text/plain": [
       "[<matplotlib.lines.Line2D at 0x1246c24a8>]"
      ]
     },
     "execution_count": 29,
     "metadata": {},
     "output_type": "execute_result"
    },
    {
     "data": {
      "image/png": "[encoded data removed]",
      "text/plain": [
       "<Figure size 504x360 with 1 Axes>"
      ]
     },
     "metadata": {},
     "output_type": "display_data"
    }
   ],
   "source": [
    "# Try different numbers of n_estimators - this will take a minute or so\n",
    "n_neighbors = np.arange(1, 20, 1)\n",
    "scores = []\n",
    "for n in n_neighbors:\n",
    "    knn_model.set_params(n_neighbors=n)\n",
    "    knn_model.fit(X_train, y_train)\n",
    "    scores.append(knn_model.score(X_test, y_test))\n",
    "plt.figure(figsize=(7, 5))\n",
    "plt.title(\"Effect of Estimators\")\n",
    "plt.xlabel(\"Number of Neighbors K\")\n",
    "plt.ylabel(\"Score\")\n",
    "plt.plot(n_neighbors, scores)"
   ]
  },
  {
   "cell_type": "markdown",
   "metadata": {
    "_uuid": "c65106eb2941720e70f805e5aca543c05498d81c"
   },
   "source": [
    "# Random Forest Model"
   ]
  },
  {
   "cell_type": "markdown",
   "metadata": {
    "_uuid": "82ab0e9798bf34c65b28793d0270618f2ef894a2"
   },
   "source": [
    "The RandomForestRegressor class of the sklearn.ensemble library is used to solve regression problems via random forest. The most important parameter of the RandomForestRegressor class is the n_estimators parameter. This parameter defines the number of trees in the random forest."
   ]
  },
  {
   "cell_type": "code",
   "execution_count": null,
   "metadata": {
    "_uuid": "ae3d4a3da829d52e6cc0f7e0c1cf5662f3e6d451"
   },
   "outputs": [],
   "source": [
    "rf_model = RandomForestRegressor(n_jobs=-1)\n",
    "# Try different numbers of n_estimators - this will take a minute or so\n",
    "estimators = np.arange(10, 200, 10)\n",
    "scores = []\n",
    "for n in estimators:\n",
    "    rf_model.set_params(n_estimators=n)\n",
    "    rf_model.fit(X_train, y_train)\n",
    "    scores.append(rf_model.score(X_test, y_test))\n",
    "plt.figure(figsize=(7, 5))\n",
    "plt.title(\"Effect of Estimators\")\n",
    "plt.xlabel(\"no. estimator\")\n",
    "plt.ylabel(\"score\")\n",
    "plt.plot(estimators, scores)\n",
    "results = list(zip(estimators,scores))"
   ]
  },
  {
   "cell_type": "code",
   "execution_count": null,
   "metadata": {
    "_uuid": "2c55bb7766e15ac104213bc699c92ef7cb69eab3"
   },
   "outputs": [],
   "source": [
    "predictions = rf_model.predict(X_test)\n",
    "'Mean Absolute Error:', metrics.mean_absolute_error(y_test, predictions)"
   ]
  },
  {
   "cell_type": "code",
   "execution_count": null,
   "metadata": {},
   "outputs": [],
   "source": [
    "# Calculate the mean accuracy of the KNN model\n",
    "accuracy = rf_model.score(X_test,y_test)\n",
    "'RF Accuracy: ' + str(np.round(accuracy*100, 2)) + '%'"
   ]
  },
  {
   "cell_type": "code",
   "execution_count": null,
   "metadata": {
    "_uuid": "7ac7503554eaebb5015d96072b37e0a5bd92cdc5",
    "scrolled": true
   },
   "outputs": [],
   "source": [
    "'Desvio padrão:', metrics.mean_squared_error(y_test, predictions)"
   ]
  },
  {
   "cell_type": "code",
   "execution_count": null,
   "metadata": {
    "_uuid": "1c7c3918a76f474c4717e9d7dd4b61b0775ea42c"
   },
   "outputs": [],
   "source": [
    "'Variância:', np.sqrt(metrics.mean_squared_error(y_test, predictions))"
   ]
  },
  {
   "cell_type": "code",
   "execution_count": null,
   "metadata": {},
   "outputs": [],
   "source": [
    "pop_mean_2015 = df['Rating'].fillna(df['Rating'].median()).mean()\n",
    "pop_std_2015 = statistics.stdev(df['Rating'].fillna(df['Rating'].median()))\n",
    "print(\"Population Mean: \"+str(pop_mean_2015))\n",
    "fprint(\"Population Standard Deviation: \"+str(pop_std_2015))"
   ]
  },
  {
   "cell_type": "code",
   "execution_count": null,
   "metadata": {},
   "outputs": [],
   "source": [
    "def plot_cm_rates(y_test, Y_pred):\n",
    "\n",
    "    #Plotting Confusion matrix\n",
    "    x=confusion_matrix(y_test,Y_pred)\n",
    "    cm_df=pd.DataFrame(x,index=['Negative','Neutral','Positive'],columns=['Negative','Neutral','Positive'])\n",
    "\n",
    "    sns.set(font_scale=1,color_codes=True,palette='deep')\n",
    "    sns.heatmap(cm_df,annot=True,annot_kws={\"size\":16},fmt='d',cmap=\"YlGnBu\")\n",
    "    plt.xlabel(\"Predicted Label\")\n",
    "    plt.ylabel(\"True Label\")\n",
    "    plt.title(\"Confusion Matrix \")"
   ]
  },
  {
   "cell_type": "code",
   "execution_count": null,
   "metadata": {},
   "outputs": [],
   "source": []
  }
 ],
 "metadata": {
  "kernelspec": {
   "display_name": "Python 3",
   "language": "python",
   "name": "python3"
  },
  "language_info": {
   "codemirror_mode": {
    "name": "ipython",
    "version": 3
   },
   "file_extension": ".py",
   "mimetype": "text/x-python",
   "name": "python",
   "nbconvert_exporter": "python",
   "pygments_lexer": "ipython3",
   "version": "3.7.0"
  }
 },
 "nbformat": 4,
 "nbformat_minor": 1
}
