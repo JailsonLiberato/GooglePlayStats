{
 "cells": [
  {
   "cell_type": "markdown",
   "metadata": {
    "_cell_guid": "b1076dfc-b9ad-4769-8c92-a6c4dae69d19",
    "_uuid": "8f2839f25d086af736a60e9eeb907d3b93b6e0e5"
   },
   "source": [
    "Neste algoritmo, os algoritmos KNN e Random Forest serão aplicados para prever as classificações de aplicativos na Google Play Store."
   ]
  },
  {
   "cell_type": "code",
   "execution_count": 43,
   "metadata": {
    "_cell_guid": "79c7e3d0-c299-4dcb-8224-4455121ee9b0",
    "_uuid": "d629ff2d2480ee46fbb7e2d37f6b5fab8052498a",
    "pycharm": {
     "is_executing": false
    }
   },
   "outputs": [],
   "source": [
    "import re\n",
    "import sys\n",
    "\n",
    "import time\n",
    "import datetime\n",
    "import statistics\n",
    "import missingno as msno\n",
    "import numpy as np\n",
    "import pandas as pd\n",
    "\n",
    "import seaborn as sns\n",
    "import matplotlib.pyplot as plt\n",
    "import matplotlib.ticker as ticker\n",
    "\n",
    "from sklearn import metrics\n",
    "from scipy.stats import wilcoxon\n",
    "from sklearn import preprocessing\n",
    "from sklearn.metrics import r2_score\n",
    "from sklearn.neighbors import KNeighborsRegressor\n",
    "from sklearn.ensemble import RandomForestRegressor\n",
    "from sklearn.model_selection import train_test_split\n",
    "from sklearn.metrics import explained_variance_score\n",
    "\n",
    "from sklearn.model_selection import cross_val_score\n",
    "\n",
    "# Loading the data\n",
    "df = pd.read_csv('./files/googleplaystore.csv')\n",
    "#df = df.sample(1000)"
   ]
  },
  {
   "cell_type": "code",
   "execution_count": 2,
   "metadata": {
    "_uuid": "49170f1e1019110b6fa001ae3fc9e02a05dc48de",
    "pycharm": {
     "is_executing": false
    }
   },
   "outputs": [],
   "source": [
    "%matplotlib inline"
   ]
  },
  {
   "cell_type": "code",
   "execution_count": 3,
   "metadata": {
    "_uuid": "2068b367a50157fbefeff3b44046a41a344b9ecc",
    "pycharm": {
     "is_executing": false
    }
   },
   "outputs": [],
   "source": [
    "sns.set(style='darkgrid')\n",
    "sns.set_palette('PuBuGn_d')"
   ]
  },
  {
   "cell_type": "markdown",
   "metadata": {
    "_uuid": "349b8414dbdc6f0a41ce89d838b711927ffef552"
   },
   "source": [
    "# Exploração de dados e limpeza"
   ]
  },
  {
   "cell_type": "code",
   "execution_count": 4,
   "metadata": {
    "_uuid": "3da24a5c41129bf404fb5904b57f1a261b5ba7b0",
    "pycharm": {
     "is_executing": false
    }
   },
   "outputs": [
    {
     "data": {
      "text/html": [
       "<div>\n",
       "<style scoped>\n",
       "    .dataframe tbody tr th:only-of-type {\n",
       "        vertical-align: middle;\n",
       "    }\n",
       "\n",
       "    .dataframe tbody tr th {\n",
       "        vertical-align: top;\n",
       "    }\n",
       "\n",
       "    .dataframe thead th {\n",
       "        text-align: right;\n",
       "    }\n",
       "</style>\n",
       "<table border=\"1\" class=\"dataframe\">\n",
       "  <thead>\n",
       "    <tr style=\"text-align: right;\">\n",
       "      <th></th>\n",
       "      <th>App</th>\n",
       "      <th>Category</th>\n",
       "      <th>Rating</th>\n",
       "      <th>Reviews</th>\n",
       "      <th>Size</th>\n",
       "      <th>Installs</th>\n",
       "      <th>Type</th>\n",
       "      <th>Price</th>\n",
       "      <th>Content Rating</th>\n",
       "      <th>Genres</th>\n",
       "      <th>Last Updated</th>\n",
       "      <th>Current Ver</th>\n",
       "      <th>Android Ver</th>\n",
       "    </tr>\n",
       "  </thead>\n",
       "  <tbody>\n",
       "    <tr>\n",
       "      <th>0</th>\n",
       "      <td>Photo Editor &amp; Candy Camera &amp; Grid &amp; ScrapBook</td>\n",
       "      <td>ART_AND_DESIGN</td>\n",
       "      <td>4.1</td>\n",
       "      <td>159</td>\n",
       "      <td>19M</td>\n",
       "      <td>10,000+</td>\n",
       "      <td>Free</td>\n",
       "      <td>0</td>\n",
       "      <td>Everyone</td>\n",
       "      <td>Art &amp; Design</td>\n",
       "      <td>January 7, 2018</td>\n",
       "      <td>1.0.0</td>\n",
       "      <td>4.0.3 and up</td>\n",
       "    </tr>\n",
       "    <tr>\n",
       "      <th>1</th>\n",
       "      <td>Coloring book moana</td>\n",
       "      <td>ART_AND_DESIGN</td>\n",
       "      <td>3.9</td>\n",
       "      <td>967</td>\n",
       "      <td>14M</td>\n",
       "      <td>500,000+</td>\n",
       "      <td>Free</td>\n",
       "      <td>0</td>\n",
       "      <td>Everyone</td>\n",
       "      <td>Art &amp; Design;Pretend Play</td>\n",
       "      <td>January 15, 2018</td>\n",
       "      <td>2.0.0</td>\n",
       "      <td>4.0.3 and up</td>\n",
       "    </tr>\n",
       "    <tr>\n",
       "      <th>2</th>\n",
       "      <td>U Launcher Lite – FREE Live Cool Themes, Hide ...</td>\n",
       "      <td>ART_AND_DESIGN</td>\n",
       "      <td>4.7</td>\n",
       "      <td>87510</td>\n",
       "      <td>8.7M</td>\n",
       "      <td>5,000,000+</td>\n",
       "      <td>Free</td>\n",
       "      <td>0</td>\n",
       "      <td>Everyone</td>\n",
       "      <td>Art &amp; Design</td>\n",
       "      <td>August 1, 2018</td>\n",
       "      <td>1.2.4</td>\n",
       "      <td>4.0.3 and up</td>\n",
       "    </tr>\n",
       "    <tr>\n",
       "      <th>3</th>\n",
       "      <td>Sketch - Draw &amp; Paint</td>\n",
       "      <td>ART_AND_DESIGN</td>\n",
       "      <td>4.5</td>\n",
       "      <td>215644</td>\n",
       "      <td>25M</td>\n",
       "      <td>50,000,000+</td>\n",
       "      <td>Free</td>\n",
       "      <td>0</td>\n",
       "      <td>Teen</td>\n",
       "      <td>Art &amp; Design</td>\n",
       "      <td>June 8, 2018</td>\n",
       "      <td>Varies with device</td>\n",
       "      <td>4.2 and up</td>\n",
       "    </tr>\n",
       "    <tr>\n",
       "      <th>4</th>\n",
       "      <td>Pixel Draw - Number Art Coloring Book</td>\n",
       "      <td>ART_AND_DESIGN</td>\n",
       "      <td>4.3</td>\n",
       "      <td>967</td>\n",
       "      <td>2.8M</td>\n",
       "      <td>100,000+</td>\n",
       "      <td>Free</td>\n",
       "      <td>0</td>\n",
       "      <td>Everyone</td>\n",
       "      <td>Art &amp; Design;Creativity</td>\n",
       "      <td>June 20, 2018</td>\n",
       "      <td>1.1</td>\n",
       "      <td>4.4 and up</td>\n",
       "    </tr>\n",
       "  </tbody>\n",
       "</table>\n",
       "</div>"
      ],
      "text/plain": [
       "                                                 App        Category  Rating  \\\n",
       "0     Photo Editor & Candy Camera & Grid & ScrapBook  ART_AND_DESIGN     4.1   \n",
       "1                                Coloring book moana  ART_AND_DESIGN     3.9   \n",
       "2  U Launcher Lite – FREE Live Cool Themes, Hide ...  ART_AND_DESIGN     4.7   \n",
       "3                              Sketch - Draw & Paint  ART_AND_DESIGN     4.5   \n",
       "4              Pixel Draw - Number Art Coloring Book  ART_AND_DESIGN     4.3   \n",
       "\n",
       "  Reviews  Size     Installs  Type Price Content Rating  \\\n",
       "0     159   19M      10,000+  Free     0       Everyone   \n",
       "1     967   14M     500,000+  Free     0       Everyone   \n",
       "2   87510  8.7M   5,000,000+  Free     0       Everyone   \n",
       "3  215644   25M  50,000,000+  Free     0           Teen   \n",
       "4     967  2.8M     100,000+  Free     0       Everyone   \n",
       "\n",
       "                      Genres      Last Updated         Current Ver  \\\n",
       "0               Art & Design   January 7, 2018               1.0.0   \n",
       "1  Art & Design;Pretend Play  January 15, 2018               2.0.0   \n",
       "2               Art & Design    August 1, 2018               1.2.4   \n",
       "3               Art & Design      June 8, 2018  Varies with device   \n",
       "4    Art & Design;Creativity     June 20, 2018                 1.1   \n",
       "\n",
       "    Android Ver  \n",
       "0  4.0.3 and up  \n",
       "1  4.0.3 and up  \n",
       "2  4.0.3 and up  \n",
       "3    4.2 and up  \n",
       "4    4.4 and up  "
      ]
     },
     "execution_count": 4,
     "metadata": {},
     "output_type": "execute_result"
    }
   ],
   "source": [
    "df.head()\n",
    "# Executing the above script will display the first five rows of the dataset as shown below"
   ]
  },
  {
   "cell_type": "code",
   "execution_count": 5,
   "metadata": {
    "_uuid": "735b233c0d2ba4a6b85937afbb244001789a581c",
    "pycharm": {
     "is_executing": false
    }
   },
   "outputs": [
    {
     "name": "stdout",
     "output_type": "stream",
     "text": [
      "<class 'pandas.core.frame.DataFrame'>\n",
      "RangeIndex: 10841 entries, 0 to 10840\n",
      "Data columns (total 13 columns):\n",
      " #   Column          Non-Null Count  Dtype  \n",
      "---  ------          --------------  -----  \n",
      " 0   App             10841 non-null  object \n",
      " 1   Category        10841 non-null  object \n",
      " 2   Rating          9367 non-null   float64\n",
      " 3   Reviews         10841 non-null  object \n",
      " 4   Size            10841 non-null  object \n",
      " 5   Installs        10841 non-null  object \n",
      " 6   Type            10840 non-null  object \n",
      " 7   Price           10841 non-null  object \n",
      " 8   Content Rating  10840 non-null  object \n",
      " 9   Genres          10841 non-null  object \n",
      " 10  Last Updated    10841 non-null  object \n",
      " 11  Current Ver     10833 non-null  object \n",
      " 12  Android Ver     10838 non-null  object \n",
      "dtypes: float64(1), object(12)\n",
      "memory usage: 1.1+ MB\n"
     ]
    }
   ],
   "source": [
    "# Checking the data type of the columns\n",
    "df.info()"
   ]
  },
  {
   "cell_type": "markdown",
   "metadata": {
    "_uuid": "1f4ec19425f3dd590aafc8b03a8d0b080997459e"
   },
   "source": [
    "O conjunto de dados tem 10.841 registros e 13 colunas, todos eles são tipos de objeto, exceto a coluna 'Rating', cujo tipo é float."
   ]
  },
  {
   "cell_type": "markdown",
   "metadata": {},
   "source": [
    "Explorando dados perdidos e verificando se algum deles possui valores NaN"
   ]
  },
  {
   "cell_type": "code",
   "execution_count": 6,
   "metadata": {
    "_uuid": "576aa2b905b02dcdf40c3f8ecf34691f003641ed",
    "pycharm": {
     "is_executing": false
    }
   },
   "outputs": [
    {
     "data": {
      "text/plain": [
       "App               False\n",
       "Category          False\n",
       "Rating             True\n",
       "Reviews           False\n",
       "Size              False\n",
       "Installs          False\n",
       "Type               True\n",
       "Price             False\n",
       "Content Rating     True\n",
       "Genres            False\n",
       "Last Updated      False\n",
       "Current Ver        True\n",
       "Android Ver        True\n",
       "dtype: bool"
      ]
     },
     "execution_count": 6,
     "metadata": {},
     "output_type": "execute_result"
    },
    {
     "data": {
      "image/png": "[encoded data removed]",
      "text/plain": [
       "<Figure size 504x360 with 2 Axes>"
      ]
     },
     "metadata": {},
     "output_type": "display_data"
    }
   ],
   "source": [
    "plt.figure(figsize=(7, 5))\n",
    "sns.heatmap(df[['Rating', 'Type', 'Content Rating', 'Genres', 'Last Updated', 'Current Ver']].isnull(), cmap='viridis')\n",
    "df.isnull().any()"
   ]
  },
  {
   "cell_type": "code",
   "execution_count": 7,
   "metadata": {
    "pycharm": {
     "is_executing": false,
     "name": "#%%\n"
    }
   },
   "outputs": [
    {
     "data": {
      "text/plain": [
       "<matplotlib.axes._subplots.AxesSubplot at 0x128017390>"
      ]
     },
     "execution_count": 7,
     "metadata": {},
     "output_type": "execute_result"
    },
    {
     "data": {
      "image/png": "[encoded data removed]",
      "text/plain": [
       "<Figure size 1800x720 with 2 Axes>"
      ]
     },
     "metadata": {},
     "output_type": "display_data"
    },
    {
     "data": {
      "image/png": "[encoded data removed]",
      "text/plain": [
       "<Figure size 1440x864 with 2 Axes>"
      ]
     },
     "metadata": {},
     "output_type": "display_data"
    }
   ],
   "source": [
    "msno.matrix(df[['Rating', 'Type', 'Content Rating', 'Genres', 'Last Updated', 'Current Ver']])\n",
    "msno.heatmap(df[['Rating', 'Type', 'Content Rating', 'Genres', 'Last Updated', 'Current Ver']])"
   ]
  },
  {
   "cell_type": "markdown",
   "metadata": {
    "_uuid": "cb7889da4b45ce1de35aba6bebccdf7e54b82581"
   },
   "source": [
    "Parece que estão faltando valores em \"Rating\", \"Type\", \"Content Rating\" e \"Android Ver\". Mas a maioria desses valores ausentes na coluna 'Rating'."
   ]
  },
  {
   "cell_type": "code",
   "execution_count": 8,
   "metadata": {
    "_uuid": "a1b4306e7e8ba1a972dc4a705cf4456745f3a5e2",
    "pycharm": {
     "is_executing": false
    }
   },
   "outputs": [
    {
     "data": {
      "text/plain": [
       "App                  0\n",
       "Category             0\n",
       "Rating            1474\n",
       "Reviews              0\n",
       "Size                 0\n",
       "Installs             0\n",
       "Type                 1\n",
       "Price                0\n",
       "Content Rating       1\n",
       "Genres               0\n",
       "Last Updated         0\n",
       "Current Ver          8\n",
       "Android Ver          3\n",
       "dtype: int64"
      ]
     },
     "execution_count": 8,
     "metadata": {},
     "output_type": "execute_result"
    }
   ],
   "source": [
    "df.isnull().sum()"
   ]
  },
  {
   "cell_type": "markdown",
   "metadata": {
    "_uuid": "9ee9d3893b22d1239ebf94af342b085780aa8540"
   },
   "source": [
    "Há duas estratégias para manipular dados ausentes, removendo registros com esses valores ausentes ou substituindo valores ausentes por um valor específico como média, mediana ou moda."
   ]
  },
  {
   "cell_type": "code",
   "execution_count": 9,
   "metadata": {
    "_uuid": "9d79d2a09533f34ba95e2e2d56de72ec4f0327a5",
    "pycharm": {
     "is_executing": false
    }
   },
   "outputs": [],
   "source": [
    "# The best way to fill missing values might be using the median instead of mean.\n",
    "df['Rating'] = df['Rating'].fillna(df['Rating'].median())\n",
    "\n",
    "# Before filling null values we have to clean all non numerical values & unicode charachters \n",
    "replaces = [u'\\u00AE', u'\\u2013', u'\\u00C3', u'\\u00E3', u'\\u00B3', '[', ']', \"'\"]\n",
    "for i in replaces:\n",
    "\tdf['Current Ver'] = df['Current Ver'].astype(str).apply(lambda x : x.replace(i, ''))\n",
    "\n",
    "regex = [r'[-+|/:/;(_)@]', r'\\s+', r'[A-Za-z]+']\n",
    "for j in regex:\n",
    "\tdf['Current Ver'] = df['Current Ver'].astype(str).apply(lambda x : re.sub(j, '0', x))\n",
    "\n",
    "df['Current Ver'] = df['Current Ver'].astype(str).apply(lambda x : x.replace('.', ',',1).replace('.', '').replace(',', '.',1)).astype(float)\n",
    "df['Current Ver'] = df['Current Ver'].fillna(df['Current Ver'].median())"
   ]
  },
  {
   "cell_type": "code",
   "execution_count": 10,
   "metadata": {
    "_uuid": "04a542636ef4c49e467e45368ef5f4e40920210a",
    "pycharm": {
     "is_executing": false
    }
   },
   "outputs": [
    {
     "data": {
      "text/plain": [
       "array(['ART_AND_DESIGN', 'AUTO_AND_VEHICLES', 'BEAUTY',\n",
       "       'BOOKS_AND_REFERENCE', 'BUSINESS', 'COMICS', 'COMMUNICATION',\n",
       "       'DATING', 'EDUCATION', 'ENTERTAINMENT', 'EVENTS', 'FINANCE',\n",
       "       'FOOD_AND_DRINK', 'HEALTH_AND_FITNESS', 'HOUSE_AND_HOME',\n",
       "       'LIBRARIES_AND_DEMO', 'LIFESTYLE', 'GAME', 'FAMILY', 'MEDICAL',\n",
       "       'SOCIAL', 'SHOPPING', 'PHOTOGRAPHY', 'SPORTS', 'TRAVEL_AND_LOCAL',\n",
       "       'TOOLS', 'PERSONALIZATION', 'PRODUCTIVITY', 'PARENTING', 'WEATHER',\n",
       "       'VIDEO_PLAYERS', 'NEWS_AND_MAGAZINES', 'MAPS_AND_NAVIGATION',\n",
       "       '1.9'], dtype=object)"
      ]
     },
     "execution_count": 10,
     "metadata": {},
     "output_type": "execute_result"
    }
   ],
   "source": [
    "# Count the number of unique values in category column \n",
    "df['Category'].unique()"
   ]
  },
  {
   "cell_type": "code",
   "execution_count": 11,
   "metadata": {
    "_uuid": "b5ac20b6e1fa3611ffc1fc2b2e552636729f0324",
    "pycharm": {
     "is_executing": false
    }
   },
   "outputs": [
    {
     "data": {
      "text/html": [
       "<div>\n",
       "<style scoped>\n",
       "    .dataframe tbody tr th:only-of-type {\n",
       "        vertical-align: middle;\n",
       "    }\n",
       "\n",
       "    .dataframe tbody tr th {\n",
       "        vertical-align: top;\n",
       "    }\n",
       "\n",
       "    .dataframe thead th {\n",
       "        text-align: right;\n",
       "    }\n",
       "</style>\n",
       "<table border=\"1\" class=\"dataframe\">\n",
       "  <thead>\n",
       "    <tr style=\"text-align: right;\">\n",
       "      <th></th>\n",
       "      <th>App</th>\n",
       "      <th>Category</th>\n",
       "      <th>Rating</th>\n",
       "      <th>Reviews</th>\n",
       "      <th>Size</th>\n",
       "      <th>Installs</th>\n",
       "      <th>Type</th>\n",
       "      <th>Price</th>\n",
       "      <th>Content Rating</th>\n",
       "      <th>Genres</th>\n",
       "      <th>Last Updated</th>\n",
       "      <th>Current Ver</th>\n",
       "      <th>Android Ver</th>\n",
       "    </tr>\n",
       "  </thead>\n",
       "  <tbody>\n",
       "    <tr>\n",
       "      <th>10472</th>\n",
       "      <td>Life Made WI-Fi Touchscreen Photo Frame</td>\n",
       "      <td>1.9</td>\n",
       "      <td>19.0</td>\n",
       "      <td>3.0M</td>\n",
       "      <td>1,000+</td>\n",
       "      <td>Free</td>\n",
       "      <td>0</td>\n",
       "      <td>Everyone</td>\n",
       "      <td>NaN</td>\n",
       "      <td>February 11, 2018</td>\n",
       "      <td>1.0.19</td>\n",
       "      <td>4.0</td>\n",
       "      <td>NaN</td>\n",
       "    </tr>\n",
       "  </tbody>\n",
       "</table>\n",
       "</div>"
      ],
      "text/plain": [
       "                                           App Category  Rating Reviews  \\\n",
       "10472  Life Made WI-Fi Touchscreen Photo Frame      1.9    19.0    3.0M   \n",
       "\n",
       "         Size Installs Type     Price Content Rating             Genres  \\\n",
       "10472  1,000+     Free    0  Everyone            NaN  February 11, 2018   \n",
       "\n",
       "      Last Updated  Current Ver Android Ver  \n",
       "10472       1.0.19          4.0         NaN  "
      ]
     },
     "execution_count": 11,
     "metadata": {},
     "output_type": "execute_result"
    }
   ],
   "source": [
    "# Check the record  of unreasonable value which is 1.9\n",
    "i = df[df['Category'] == '1.9'].index\n",
    "df.loc[i]"
   ]
  },
  {
   "cell_type": "markdown",
   "metadata": {
    "_uuid": "530ef2300216249e4198c80ab688501f1878a1b4"
   },
   "source": [
    "É óbvio que o primeiro valor deste registro está faltando (nome do aplicativo) e todos os outros valores são propagados, respectivamente, começando de \"Category\" (categoria) para \"Current Ver\"; e a última coluna, que é \"Android Ver\", é deixada em branco. É melhor remover esta instância em vez de considerar estes valores durante a limpeza de cada coluna!"
   ]
  },
  {
   "cell_type": "code",
   "execution_count": 12,
   "metadata": {
    "_uuid": "b809813abfaf4bdd82c80f80a5dafc74aed576f2",
    "pycharm": {
     "is_executing": false
    }
   },
   "outputs": [],
   "source": [
    "# Drop this bad column\n",
    "df = df.drop(i)"
   ]
  },
  {
   "cell_type": "code",
   "execution_count": 13,
   "metadata": {
    "_uuid": "1263c3cebbdc8abe1c3758825153cfc8dfcc6742",
    "pycharm": {
     "is_executing": false
    }
   },
   "outputs": [],
   "source": [
    "# Removing NaN values\n",
    "df = df[pd.notnull(df['Last Updated'])]\n",
    "df = df[pd.notnull(df['Content Rating'])]"
   ]
  },
  {
   "cell_type": "markdown",
   "metadata": {
    "_uuid": "701c768737179ec7d949597382bcf35980ff5f32"
   },
   "source": [
    "# Codificação de dados categóricos"
   ]
  },
  {
   "cell_type": "markdown",
   "metadata": {
    "_uuid": "bea0c8a5d124a8a3c16be3f2104238f9a6a1f6ac"
   },
   "source": [
    "Muitos algoritmos de aprendizado de máquina podem suportar valores categóricos sem manipulação adicional, mas há muito mais algoritmos que não. Precisamos disponibilizar todos os dados para o modelo, portanto, converteremos variáveis categóricas (variáveis armazenadas como valores de texto) em variáveis numéricas."
   ]
  },
  {
   "cell_type": "code",
   "execution_count": 14,
   "metadata": {
    "_uuid": "08b7abb6432474217a035974c70a488fb86bf3c9",
    "pycharm": {
     "is_executing": false
    }
   },
   "outputs": [],
   "source": [
    "# App values encoding\n",
    "le = preprocessing.LabelEncoder()\n",
    "df['App'] = le.fit_transform(df['App'])\n",
    "# This encoder converts the values into numeric values"
   ]
  },
  {
   "cell_type": "code",
   "execution_count": 15,
   "metadata": {
    "_uuid": "e7bb75ccd2b7ee3036bf4ba6e403d80ed0ab60b9",
    "pycharm": {
     "is_executing": false
    }
   },
   "outputs": [],
   "source": [
    "# Category features encoding\n",
    "category_list = df['Category'].unique().tolist() \n",
    "category_list = ['cat_' + word for word in category_list]\n",
    "df = pd.concat([df, pd.get_dummies(df['Category'], prefix='cat')], axis=1)"
   ]
  },
  {
   "cell_type": "code",
   "execution_count": 16,
   "metadata": {
    "_uuid": "f9a6acc1c827d2a68351fa61720c357be6b60d9a",
    "pycharm": {
     "is_executing": false
    }
   },
   "outputs": [],
   "source": [
    "# Genres features encoding\n",
    "le = preprocessing.LabelEncoder()\n",
    "df['Genres'] = le.fit_transform(df['Genres'])"
   ]
  },
  {
   "cell_type": "code",
   "execution_count": 17,
   "metadata": {
    "_uuid": "b6c3c187c5a39f584bf688e04c2380a3e4e0faae",
    "pycharm": {
     "is_executing": false
    }
   },
   "outputs": [],
   "source": [
    "# Encode Content Rating features\n",
    "le = preprocessing.LabelEncoder()\n",
    "df['Content Rating'] = le.fit_transform(df['Content Rating'])"
   ]
  },
  {
   "cell_type": "code",
   "execution_count": 18,
   "metadata": {
    "_uuid": "e6b5d46c088714ed7c36bf6a1ea940855f577df2",
    "pycharm": {
     "is_executing": false
    }
   },
   "outputs": [],
   "source": [
    "# Price cealning\n",
    "df['Price'] = df['Price'].apply(lambda x : x.strip('$'))"
   ]
  },
  {
   "cell_type": "code",
   "execution_count": 19,
   "metadata": {
    "_uuid": "477c75635f893a83e5601e1f42b59d9ab32871ac",
    "pycharm": {
     "is_executing": false
    }
   },
   "outputs": [],
   "source": [
    "# Installs cealning\n",
    "df['Installs'] = df['Installs'].apply(lambda x : x.strip('+').replace(',', ''))"
   ]
  },
  {
   "cell_type": "markdown",
   "metadata": {
    "_uuid": "37d8d15b89d3bf8f89228c5268059b809b3472d7"
   },
   "source": [
    "A linha abaixo descarta a coluna de referência e apenas mantém apenas uma das duas colunas, pois reter essa coluna extra não adiciona nenhuma informação nova para o processo de modelagem, esta linha é exatamente a mesma que define o parâmetro drop_first como True."
   ]
  },
  {
   "cell_type": "code",
   "execution_count": 20,
   "metadata": {
    "_uuid": "0a25b9b01bf8b9d30164b37760a88d196ed6f17a",
    "pycharm": {
     "is_executing": false
    }
   },
   "outputs": [],
   "source": [
    "# Type encoding\n",
    "df['Type'] = pd.get_dummies(df['Type'])"
   ]
  },
  {
   "cell_type": "code",
   "execution_count": 21,
   "metadata": {
    "_uuid": "9c76efe031c2553674c2151604667873da8879f3",
    "pycharm": {
     "is_executing": false
    }
   },
   "outputs": [],
   "source": [
    "# Last Updated encoding\n",
    "df['Last Updated'] = df['Last Updated'].apply(lambda x : time.mktime(datetime.datetime.strptime(x, '%B %d, %Y').timetuple()))"
   ]
  },
  {
   "cell_type": "code",
   "execution_count": 22,
   "metadata": {
    "_uuid": "7c832e8a86b208d73f2b895a6af938f064197989",
    "pycharm": {
     "is_executing": false
    }
   },
   "outputs": [],
   "source": [
    "# Size cealning\n",
    "df['Size'] = df['Size'].apply(lambda x: x.strip('M').strip('k'))\n",
    "df[df['Size'] == 'Varies with device'] = 0"
   ]
  },
  {
   "cell_type": "markdown",
   "metadata": {
    "_uuid": "560d124e3e54f32ddc96e2673272933868ba41b6"
   },
   "source": [
    "# Procedimento de avaliação"
   ]
  },
  {
   "cell_type": "markdown",
   "metadata": {
    "_uuid": "62681ed3dd0dcde4cab9509e2c2bfb03dd806811"
   },
   "source": [
    "Nesta seção, mostramos como o KNN e o Random Forest podem ser usados para prever as avaliações de aplicativos com base nas outras matrizes. Primeiro, o conjunto de dados deve se separar em variáveis dependentes e independentes (ou recursos e rótulos). Então, essas variáveis precisam ser divididas em um conjunto de treinamento e teste.\n",
    "\n",
    "Durante o estágio de treinamento, damos ao modelo os recursos e os rótulos para que ele possa aprender a classificar os pontos com base nos recursos."
   ]
  },
  {
   "cell_type": "markdown",
   "metadata": {
    "_uuid": "93401fd7ad1370c54ad8e993beb7e63fca2c9487"
   },
   "source": [
    "Este script divide o conjunto de dados em 75% de dados de treino e 25% de dados de teste."
   ]
  },
  {
   "cell_type": "code",
   "execution_count": 23,
   "metadata": {
    "_uuid": "55091ada59112cbb0386555215456155325b4afb",
    "pycharm": {
     "is_executing": false
    }
   },
   "outputs": [],
   "source": [
    "# Split data into training and testing sets\n",
    "features = ['App', 'Reviews', 'Size', 'Installs', 'Type', 'Price', 'Content Rating', 'Genres', 'Last Updated', 'Current Ver']\n",
    "features.extend(category_list)\n",
    "X = df[features]\n",
    "y = df['Rating']"
   ]
  },
  {
   "cell_type": "code",
   "execution_count": 24,
   "metadata": {
    "_uuid": "ac520abc0daca1d026bf1220848ee15aba69e1d1",
    "pycharm": {
     "is_executing": false
    }
   },
   "outputs": [],
   "source": [
    "X_train, X_test, y_train, y_test = train_test_split(X, y, test_size = 0.25, random_state = 10)"
   ]
  },
  {
   "cell_type": "markdown",
   "metadata": {},
   "source": [
    "# Mapa de Calor (heatmap)"
   ]
  },
  {
   "cell_type": "markdown",
   "metadata": {},
   "source": [
    "Criação do mapa de calor para identificar as melhores correlações entre as features."
   ]
  },
  {
   "cell_type": "code",
   "execution_count": 25,
   "metadata": {
    "pycharm": {
     "is_executing": false
    }
   },
   "outputs": [],
   "source": [
    "def generate_heatmap():\n",
    "    t = pd.DataFrame(data={\"col\": df.dtypes.index, \"type\": df.dtypes}).reset_index(drop=True)\n",
    "\n",
    "    col_names = t[\"col\"][t.type != \"object\"]\n",
    "\n",
    "    fig = plt.figure(figsize=(12,12))\n",
    "\n",
    "    ax = fig.add_subplot(1,1,1)\n",
    "    cax = ax.matshow(df.corr(), interpolation = 'nearest')\n",
    "\n",
    "    fig.colorbar(cax)\n",
    "\n",
    "    ax.xaxis.set_major_locator(ticker.MultipleLocator(1))\n",
    "    ax.yaxis.set_major_locator(ticker.MultipleLocator(1))\n",
    "\n",
    "    # ax.set_xticklabels(col_names)\n",
    "    ax.set_yticklabels(col_names);"
   ]
  },
  {
   "cell_type": "code",
   "execution_count": 26,
   "metadata": {
    "pycharm": {
     "is_executing": false
    }
   },
   "outputs": [
    {
     "data": {
      "image/png": "[encoded data removed]",
      "text/plain": [
       "<Figure size 864x864 with 2 Axes>"
      ]
     },
     "metadata": {},
     "output_type": "display_data"
    }
   ],
   "source": [
    "generate_heatmap()"
   ]
  },
  {
   "cell_type": "markdown",
   "metadata": {
    "_uuid": "42852398ec3dbf5ef105e4e31e3dfd6cd4a6ae77"
   },
   "source": [
    "# Modelo  K-Nearest Neighbors (KNN)"
   ]
  },
  {
   "cell_type": "markdown",
   "metadata": {
    "_uuid": "f70fba87a697bb770186d56f6af1103e35a06a98"
   },
   "source": [
    "O algoritmo de k vizinhos mais próximos baseia-se na ideia simples de prever valores desconhecidos, combinando-os com os valores conhecidos mais semelhantes. Construir o modelo consiste apenas em armazenar o conjunto de dados de treinamento. Para fazer uma previsão para um novo ponto de dados, o algoritmo encontra os pontos de dados mais próximos no conjunto de dados de treinamento - seus \"* vizinhos mais próximos *\"."
   ]
  },
  {
   "cell_type": "code",
   "execution_count": 27,
   "metadata": {
    "_uuid": "79858eca0a12127fbd887bbe7024e421eedb29f5",
    "pycharm": {
     "is_executing": false
    }
   },
   "outputs": [],
   "source": [
    "# Look at the 15 closest neighbors\n",
    "knn_model = KNeighborsRegressor(n_neighbors=15)"
   ]
  },
  {
   "cell_type": "code",
   "execution_count": 52,
   "metadata": {},
   "outputs": [],
   "source": [
    "#train model with cv of 5 \n",
    "knn_cv_scores = cross_val_score(knn_model, X_test, y_test, cv=10)"
   ]
  },
  {
   "cell_type": "code",
   "execution_count": 55,
   "metadata": {},
   "outputs": [
    {
     "name": "stdout",
     "output_type": "stream",
     "text": [
      "KNN Accuracy: 0.91 (+/- 0.03)\n"
     ]
    }
   ],
   "source": [
    "print(\"KNN Accuracy: %0.2f (+/- %0.2f)\" % (knn_cv_scores.mean(), knn_cv_scores.std() * 2))"
   ]
  },
  {
   "cell_type": "code",
   "execution_count": 28,
   "metadata": {
    "_uuid": "5b849526d99ea583b11d0d9685d2dd53835ea858",
    "pycharm": {
     "is_executing": false
    }
   },
   "outputs": [
    {
     "data": {
      "text/plain": [
       "KNeighborsRegressor(algorithm='auto', leaf_size=30, metric='minkowski',\n",
       "                    metric_params=None, n_jobs=None, n_neighbors=15, p=2,\n",
       "                    weights='uniform')"
      ]
     },
     "execution_count": 28,
     "metadata": {},
     "output_type": "execute_result"
    }
   ],
   "source": [
    "# Find the mean accuracy of knn regression using X_test and y_test\n",
    "knn_model.fit(X_train, y_train)"
   ]
  },
  {
   "cell_type": "code",
   "execution_count": 29,
   "metadata": {
    "_uuid": "146f27fc487cd22460f8205726b7b93b29ad17c9",
    "pycharm": {
     "is_executing": false
    }
   },
   "outputs": [
    {
     "data": {
      "text/plain": [
       "[<matplotlib.lines.Line2D at 0x1283f00d0>]"
      ]
     },
     "execution_count": 29,
     "metadata": {},
     "output_type": "execute_result"
    },
    {
     "data": {
      "image/png": "[encoded data removed]",
      "text/plain": [
       "<Figure size 504x360 with 1 Axes>"
      ]
     },
     "metadata": {},
     "output_type": "display_data"
    }
   ],
   "source": [
    "# Try different numbers of n_estimators - this will take a minute or so\n",
    "n_neighbors = np.arange(1, 20, 1)\n",
    "scores = []\n",
    "for n in n_neighbors:\n",
    "    knn_model.set_params(n_neighbors=n)\n",
    "    knn_model.fit(X_train, y_train)\n",
    "    scores.append(knn_model.score(X_test, y_test))\n",
    "plt.figure(figsize=(7, 5))\n",
    "plt.title(\"Effect of Estimators\")\n",
    "plt.xlabel(\"Number of Neighbors K\")\n",
    "plt.ylabel(\"Score\")\n",
    "plt.plot(n_neighbors, scores)"
   ]
  },
  {
   "cell_type": "markdown",
   "metadata": {
    "_uuid": "c65106eb2941720e70f805e5aca543c05498d81c"
   },
   "source": [
    "# Modelo Random Forest"
   ]
  },
  {
   "cell_type": "markdown",
   "metadata": {
    "_uuid": "82ab0e9798bf34c65b28793d0270618f2ef894a2"
   },
   "source": [
    "A classe RandomForestRegressor da biblioteca sklearn.ensemble é usada para resolver problemas de regressão via Random Forest. O parâmetro mais importante da classe RandomForestRegressor é o parâmetro n_estimators. Esse parâmetro define o número de árvores na floresta aleatória."
   ]
  },
  {
   "cell_type": "code",
   "execution_count": 85,
   "metadata": {
    "_uuid": "ae3d4a3da829d52e6cc0f7e0c1cf5662f3e6d451",
    "pycharm": {
     "is_executing": false
    }
   },
   "outputs": [
    {
     "data": {
      "image/png": "[encoded data removed]",
      "text/plain": [
       "<Figure size 504x360 with 1 Axes>"
      ]
     },
     "metadata": {},
     "output_type": "display_data"
    }
   ],
   "source": [
    "rf_model = RandomForestRegressor(n_jobs=-1)\n",
    "# Try different numbers of n_estimators - this will take a minute or so\n",
    "estimators = np.arange(10, 200, 10)\n",
    "scores = []\n",
    "rf_scores_cv_mean = []\n",
    "rf_scores_cv_std = []\n",
    "for n in estimators:\n",
    "    rf_model.set_params(n_estimators=n)\n",
    "    rf_model.fit(X_train, y_train)\n",
    "    scores.append(rf_model.score(X_test, y_test))\n",
    "    rf_scores_cv = cross_val_score(RandomForestRegressor(n_estimators=n), X_test, y_test, cv=5)\n",
    "    rf_scores_cv_mean.append(rf_scores_cv.mean())\n",
    "    rf_scores_cv_std.append(rf_scores_cv.std())\n",
    "plt.figure(figsize=(7, 5))\n",
    "plt.title(\"Effect of Estimators\")\n",
    "plt.xlabel(\"no. estimator\")\n",
    "plt.ylabel(\"score\")\n",
    "plt.plot(estimators, scores)\n",
    "results = list(zip(estimators,scores))"
   ]
  },
  {
   "cell_type": "code",
   "execution_count": 96,
   "metadata": {},
   "outputs": [
    {
     "name": "stdout",
     "output_type": "stream",
     "text": [
      "RF CV Score: (+/- 0.93)\n",
      "RF CV Std: (+/- 0.02)\n"
     ]
    }
   ],
   "source": [
    "#Score Random Forest With Cross Validation (k-fold 10)\n",
    "print('RF CV Score: (+/- %0.2f)' % np.mean(rf_scores_cv_mean))\n",
    "print(\"RF CV Std: (+/- %0.2f)\" % (np.mean(rf_scores_cv_std) * 2))"
   ]
  },
  {
   "cell_type": "markdown",
   "metadata": {},
   "source": [
    "# Avaliação dos métodos de regressão - KNN e Random Forest"
   ]
  },
  {
   "cell_type": "code",
   "execution_count": 64,
   "metadata": {
    "_uuid": "2c55bb7766e15ac104213bc699c92ef7cb69eab3",
    "pycharm": {
     "is_executing": false
    }
   },
   "outputs": [],
   "source": [
    "rf_predictions = rf_model.predict(X_test)\n",
    "knn_predictions = knn_model.predict(X_test)"
   ]
  },
  {
   "cell_type": "code",
   "execution_count": 65,
   "metadata": {
    "pycharm": {
     "is_executing": false
    }
   },
   "outputs": [
    {
     "data": {
      "text/plain": [
       "'Acurácia - KNN: 92.35%'"
      ]
     },
     "execution_count": 65,
     "metadata": {},
     "output_type": "execute_result"
    }
   ],
   "source": [
    "knn_accuracy = knn_model.score(X_test,y_test)\n",
    "'Acurácia - KNN: ' + str(np.round(knn_accuracy*100, 2)) + '%'"
   ]
  },
  {
   "cell_type": "code",
   "execution_count": 66,
   "metadata": {
    "pycharm": {
     "is_executing": false
    }
   },
   "outputs": [
    {
     "data": {
      "text/plain": [
       "'Acurácia - Random Forest: 93.81%'"
      ]
     },
     "execution_count": 66,
     "metadata": {},
     "output_type": "execute_result"
    }
   ],
   "source": [
    "rf_accuracy = rf_model.score(X_test,y_test)\n",
    "'Acurácia - Random Forest: ' + str(np.round(rf_accuracy*100, 2)) + '%'"
   ]
  },
  {
   "cell_type": "markdown",
   "metadata": {},
   "source": [
    "A medida de erro mais comumente usada para aferir a qualidade do ajuste em modelos de regressão, é a RAIZ DO ERRO MÉDIO QUADRÁTICO.\n",
    "\n",
    "Ela é a raiz do erro médio quadrático da diferença entre a predição e o valor real.\n",
    "Podemos pensar nela como sendo uma medida análoga ao desvio padrão.\n",
    "\n",
    "Quanto mais próximo de zero melhor é a qualidade do modelo.\n",
    "\n",
    "A medida RMSE tem a mesma unidade que os valores de y.\n",
    "\n",
    "RMSE é uma boa medida, porque geralmente ela representa explicitamente o\n",
    "que vários métodos tendem a minimizar."
   ]
  },
  {
   "cell_type": "code",
   "execution_count": 34,
   "metadata": {
    "pycharm": {
     "is_executing": false
    }
   },
   "outputs": [
    {
     "data": {
      "text/plain": [
       "('KNN - Raiz do erro médio quadrático (RMSE):', 0.1996323762406599)"
      ]
     },
     "execution_count": 34,
     "metadata": {},
     "output_type": "execute_result"
    }
   ],
   "source": [
    "'KNN - Raiz do erro médio quadrático (RMSE):', metrics.mean_squared_error(y_test, knn_predictions)"
   ]
  },
  {
   "cell_type": "code",
   "execution_count": 35,
   "metadata": {
    "_uuid": "7ac7503554eaebb5015d96072b37e0a5bd92cdc5",
    "pycharm": {
     "is_executing": false
    }
   },
   "outputs": [
    {
     "data": {
      "text/plain": [
       "('Random Forest - Raiz do erro médio quadrático (RMSE):', 0.16205105733356506)"
      ]
     },
     "execution_count": 35,
     "metadata": {},
     "output_type": "execute_result"
    }
   ],
   "source": [
    "'Random Forest - Raiz do erro médio quadrático (RMSE):', metrics.mean_squared_error(y_test, rf_predictions)"
   ]
  },
  {
   "cell_type": "markdown",
   "metadata": {},
   "source": [
    "Outra importante medida de ajuste de modelos de regressão é o coeficiente de\n",
    "determinação, mas conhecido como R².\n",
    "\n",
    "Ele é definido como 1.0 menos o quanto o modelo tem de de variância\n",
    "inexplicada, representando uma medida relativa a um modelo nulo que usa\n",
    "somente a média de y como o preditor.\n",
    "\n",
    "R-squared é adimensional, e o melhor valor possível para o R-squared é 1.0\n",
    "(valores pequenos ou negativos de R² não são bons sinais)."
   ]
  },
  {
   "cell_type": "code",
   "execution_count": 36,
   "metadata": {
    "pycharm": {
     "is_executing": false
    }
   },
   "outputs": [
    {
     "data": {
      "text/plain": [
       "('KNN - R²:', 0.9234911882926484)"
      ]
     },
     "execution_count": 36,
     "metadata": {},
     "output_type": "execute_result"
    }
   ],
   "source": [
    "'KNN - R²:', r2_score(y_test, knn_predictions)"
   ]
  },
  {
   "cell_type": "code",
   "execution_count": 37,
   "metadata": {
    "_uuid": "1c7c3918a76f474c4717e9d7dd4b61b0775ea42c",
    "pycharm": {
     "is_executing": false
    }
   },
   "outputs": [
    {
     "data": {
      "text/plain": [
       "('Random Forest - R²:', 0.9378941729493587)"
      ]
     },
     "execution_count": 37,
     "metadata": {},
     "output_type": "execute_result"
    }
   ],
   "source": [
    "'Random Forest - R²:', r2_score(y_test, rf_predictions)"
   ]
  },
  {
   "cell_type": "markdown",
   "metadata": {},
   "source": [
    "Variação explicada: é a distância entre o valor médio de y e os valores estimados pelo modelo para cada y; o somatório do quadrado dos desvios dos valores estimados pelo modelo de regressão yc com relação ao valor médio de y, isto é, (yc – ymédio)2 é sua medida estatística."
   ]
  },
  {
   "cell_type": "code",
   "execution_count": 38,
   "metadata": {
    "pycharm": {
     "is_executing": false
    }
   },
   "outputs": [
    {
     "data": {
      "text/plain": [
       "('KNN - Variação explicada:', 0.9235585231599096)"
      ]
     },
     "execution_count": 38,
     "metadata": {},
     "output_type": "execute_result"
    }
   ],
   "source": [
    "'KNN - Variação explicada:', explained_variance_score(y_test, knn_predictions)"
   ]
  },
  {
   "cell_type": "code",
   "execution_count": 39,
   "metadata": {
    "pycharm": {
     "is_executing": false
    }
   },
   "outputs": [
    {
     "data": {
      "text/plain": [
       "('RF - Variação explicada:', 0.9380148680043191)"
      ]
     },
     "execution_count": 39,
     "metadata": {},
     "output_type": "execute_result"
    }
   ],
   "source": [
    "'RF - Variação explicada:', explained_variance_score(y_test, rf_predictions)  "
   ]
  },
  {
   "cell_type": "code",
   "execution_count": 40,
   "metadata": {
    "pycharm": {
     "is_executing": false
    }
   },
   "outputs": [
    {
     "data": {
      "text/html": [
       "<div>\n",
       "<style scoped>\n",
       "    .dataframe tbody tr th:only-of-type {\n",
       "        vertical-align: middle;\n",
       "    }\n",
       "\n",
       "    .dataframe tbody tr th {\n",
       "        vertical-align: top;\n",
       "    }\n",
       "\n",
       "    .dataframe thead th {\n",
       "        text-align: right;\n",
       "    }\n",
       "</style>\n",
       "<table border=\"1\" class=\"dataframe\">\n",
       "  <thead>\n",
       "    <tr style=\"text-align: right;\">\n",
       "      <th></th>\n",
       "      <th>App</th>\n",
       "      <th>Rating</th>\n",
       "      <th>Type</th>\n",
       "      <th>Content Rating</th>\n",
       "      <th>Genres</th>\n",
       "      <th>Last Updated</th>\n",
       "      <th>Current Ver</th>\n",
       "      <th>cat_ART_AND_DESIGN</th>\n",
       "      <th>cat_AUTO_AND_VEHICLES</th>\n",
       "      <th>cat_BEAUTY</th>\n",
       "      <th>...</th>\n",
       "      <th>cat_PERSONALIZATION</th>\n",
       "      <th>cat_PHOTOGRAPHY</th>\n",
       "      <th>cat_PRODUCTIVITY</th>\n",
       "      <th>cat_SHOPPING</th>\n",
       "      <th>cat_SOCIAL</th>\n",
       "      <th>cat_SPORTS</th>\n",
       "      <th>cat_TOOLS</th>\n",
       "      <th>cat_TRAVEL_AND_LOCAL</th>\n",
       "      <th>cat_VIDEO_PLAYERS</th>\n",
       "      <th>cat_WEATHER</th>\n",
       "    </tr>\n",
       "  </thead>\n",
       "  <tbody>\n",
       "    <tr>\n",
       "      <th>App</th>\n",
       "      <td>1.000000</td>\n",
       "      <td>0.545810</td>\n",
       "      <td>0.446999</td>\n",
       "      <td>0.318116</td>\n",
       "      <td>0.354208</td>\n",
       "      <td>0.566759</td>\n",
       "      <td>0.017301</td>\n",
       "      <td>0.034379</td>\n",
       "      <td>0.028638</td>\n",
       "      <td>0.021334</td>\n",
       "      <td>...</td>\n",
       "      <td>0.064914</td>\n",
       "      <td>0.035649</td>\n",
       "      <td>0.031217</td>\n",
       "      <td>0.049120</td>\n",
       "      <td>0.057332</td>\n",
       "      <td>0.038876</td>\n",
       "      <td>0.043116</td>\n",
       "      <td>0.039711</td>\n",
       "      <td>0.031314</td>\n",
       "      <td>0.057287</td>\n",
       "    </tr>\n",
       "    <tr>\n",
       "      <th>Rating</th>\n",
       "      <td>0.545810</td>\n",
       "      <td>1.000000</td>\n",
       "      <td>0.761784</td>\n",
       "      <td>0.482900</td>\n",
       "      <td>0.569438</td>\n",
       "      <td>0.957377</td>\n",
       "      <td>0.005808</td>\n",
       "      <td>0.039097</td>\n",
       "      <td>0.033268</td>\n",
       "      <td>0.031344</td>\n",
       "      <td>...</td>\n",
       "      <td>0.090352</td>\n",
       "      <td>0.060363</td>\n",
       "      <td>0.068320</td>\n",
       "      <td>0.060295</td>\n",
       "      <td>0.064129</td>\n",
       "      <td>0.074162</td>\n",
       "      <td>0.087428</td>\n",
       "      <td>0.046259</td>\n",
       "      <td>0.036108</td>\n",
       "      <td>0.032421</td>\n",
       "    </tr>\n",
       "    <tr>\n",
       "      <th>Type</th>\n",
       "      <td>0.446999</td>\n",
       "      <td>0.761784</td>\n",
       "      <td>1.000000</td>\n",
       "      <td>0.424255</td>\n",
       "      <td>0.488121</td>\n",
       "      <td>0.808278</td>\n",
       "      <td>0.005148</td>\n",
       "      <td>0.031836</td>\n",
       "      <td>0.039390</td>\n",
       "      <td>0.035368</td>\n",
       "      <td>...</td>\n",
       "      <td>0.000274</td>\n",
       "      <td>0.055192</td>\n",
       "      <td>0.058627</td>\n",
       "      <td>0.070384</td>\n",
       "      <td>0.070509</td>\n",
       "      <td>0.062914</td>\n",
       "      <td>0.084313</td>\n",
       "      <td>0.055173</td>\n",
       "      <td>0.057251</td>\n",
       "      <td>0.020586</td>\n",
       "    </tr>\n",
       "    <tr>\n",
       "      <th>Content Rating</th>\n",
       "      <td>0.318116</td>\n",
       "      <td>0.482900</td>\n",
       "      <td>0.424255</td>\n",
       "      <td>1.000000</td>\n",
       "      <td>0.207407</td>\n",
       "      <td>0.501613</td>\n",
       "      <td>-0.002032</td>\n",
       "      <td>-0.004434</td>\n",
       "      <td>-0.013434</td>\n",
       "      <td>0.008696</td>\n",
       "      <td>...</td>\n",
       "      <td>0.045699</td>\n",
       "      <td>-0.006143</td>\n",
       "      <td>-0.023127</td>\n",
       "      <td>0.029342</td>\n",
       "      <td>0.190094</td>\n",
       "      <td>-0.009083</td>\n",
       "      <td>-0.049235</td>\n",
       "      <td>-0.021107</td>\n",
       "      <td>0.015871</td>\n",
       "      <td>-0.006907</td>\n",
       "    </tr>\n",
       "    <tr>\n",
       "      <th>Genres</th>\n",
       "      <td>0.354208</td>\n",
       "      <td>0.569438</td>\n",
       "      <td>0.488121</td>\n",
       "      <td>0.207407</td>\n",
       "      <td>1.000000</td>\n",
       "      <td>0.607336</td>\n",
       "      <td>-0.001914</td>\n",
       "      <td>-0.088609</td>\n",
       "      <td>-0.089214</td>\n",
       "      <td>-0.068793</td>\n",
       "      <td>...</td>\n",
       "      <td>0.128196</td>\n",
       "      <td>0.112000</td>\n",
       "      <td>0.127080</td>\n",
       "      <td>0.153714</td>\n",
       "      <td>0.175703</td>\n",
       "      <td>0.219373</td>\n",
       "      <td>0.388017</td>\n",
       "      <td>0.199727</td>\n",
       "      <td>0.176171</td>\n",
       "      <td>0.121541</td>\n",
       "    </tr>\n",
       "    <tr>\n",
       "      <th>Last Updated</th>\n",
       "      <td>0.566759</td>\n",
       "      <td>0.957377</td>\n",
       "      <td>0.808278</td>\n",
       "      <td>0.501613</td>\n",
       "      <td>0.607336</td>\n",
       "      <td>1.000000</td>\n",
       "      <td>0.004505</td>\n",
       "      <td>0.034533</td>\n",
       "      <td>0.038078</td>\n",
       "      <td>0.029979</td>\n",
       "      <td>...</td>\n",
       "      <td>0.074449</td>\n",
       "      <td>0.066506</td>\n",
       "      <td>0.071489</td>\n",
       "      <td>0.062426</td>\n",
       "      <td>0.061332</td>\n",
       "      <td>0.076017</td>\n",
       "      <td>0.112974</td>\n",
       "      <td>0.059161</td>\n",
       "      <td>0.046644</td>\n",
       "      <td>0.030992</td>\n",
       "    </tr>\n",
       "    <tr>\n",
       "      <th>Current Ver</th>\n",
       "      <td>0.017301</td>\n",
       "      <td>0.005808</td>\n",
       "      <td>0.005148</td>\n",
       "      <td>-0.002032</td>\n",
       "      <td>-0.001914</td>\n",
       "      <td>0.004505</td>\n",
       "      <td>1.000000</td>\n",
       "      <td>-0.000729</td>\n",
       "      <td>-0.000802</td>\n",
       "      <td>-0.000634</td>\n",
       "      <td>...</td>\n",
       "      <td>-0.001767</td>\n",
       "      <td>-0.001488</td>\n",
       "      <td>-0.001629</td>\n",
       "      <td>-0.001320</td>\n",
       "      <td>-0.001350</td>\n",
       "      <td>-0.001651</td>\n",
       "      <td>-0.002598</td>\n",
       "      <td>-0.001290</td>\n",
       "      <td>-0.001062</td>\n",
       "      <td>-0.000698</td>\n",
       "    </tr>\n",
       "    <tr>\n",
       "      <th>cat_ART_AND_DESIGN</th>\n",
       "      <td>0.034379</td>\n",
       "      <td>0.039097</td>\n",
       "      <td>0.031836</td>\n",
       "      <td>-0.004434</td>\n",
       "      <td>-0.088609</td>\n",
       "      <td>0.034533</td>\n",
       "      <td>-0.000729</td>\n",
       "      <td>1.000000</td>\n",
       "      <td>-0.006331</td>\n",
       "      <td>-0.005005</td>\n",
       "      <td>...</td>\n",
       "      <td>-0.013956</td>\n",
       "      <td>-0.011748</td>\n",
       "      <td>-0.012861</td>\n",
       "      <td>-0.010425</td>\n",
       "      <td>-0.010660</td>\n",
       "      <td>-0.013035</td>\n",
       "      <td>-0.020515</td>\n",
       "      <td>-0.010185</td>\n",
       "      <td>-0.008389</td>\n",
       "      <td>-0.005514</td>\n",
       "    </tr>\n",
       "    <tr>\n",
       "      <th>cat_AUTO_AND_VEHICLES</th>\n",
       "      <td>0.028638</td>\n",
       "      <td>0.033268</td>\n",
       "      <td>0.039390</td>\n",
       "      <td>-0.013434</td>\n",
       "      <td>-0.089214</td>\n",
       "      <td>0.038078</td>\n",
       "      <td>-0.000802</td>\n",
       "      <td>-0.006331</td>\n",
       "      <td>1.000000</td>\n",
       "      <td>-0.005508</td>\n",
       "      <td>...</td>\n",
       "      <td>-0.015359</td>\n",
       "      <td>-0.012929</td>\n",
       "      <td>-0.014154</td>\n",
       "      <td>-0.011473</td>\n",
       "      <td>-0.011732</td>\n",
       "      <td>-0.014345</td>\n",
       "      <td>-0.022577</td>\n",
       "      <td>-0.011208</td>\n",
       "      <td>-0.009232</td>\n",
       "      <td>-0.006069</td>\n",
       "    </tr>\n",
       "    <tr>\n",
       "      <th>cat_BEAUTY</th>\n",
       "      <td>0.021334</td>\n",
       "      <td>0.031344</td>\n",
       "      <td>0.035368</td>\n",
       "      <td>0.008696</td>\n",
       "      <td>-0.068793</td>\n",
       "      <td>0.029979</td>\n",
       "      <td>-0.000634</td>\n",
       "      <td>-0.005005</td>\n",
       "      <td>-0.005508</td>\n",
       "      <td>1.000000</td>\n",
       "      <td>...</td>\n",
       "      <td>-0.012142</td>\n",
       "      <td>-0.010222</td>\n",
       "      <td>-0.011190</td>\n",
       "      <td>-0.009070</td>\n",
       "      <td>-0.009275</td>\n",
       "      <td>-0.011341</td>\n",
       "      <td>-0.017849</td>\n",
       "      <td>-0.008861</td>\n",
       "      <td>-0.007299</td>\n",
       "      <td>-0.004798</td>\n",
       "    </tr>\n",
       "    <tr>\n",
       "      <th>cat_BOOKS_AND_REFERENCE</th>\n",
       "      <td>0.000038</td>\n",
       "      <td>0.066426</td>\n",
       "      <td>0.028134</td>\n",
       "      <td>-0.007150</td>\n",
       "      <td>-0.123905</td>\n",
       "      <td>0.055234</td>\n",
       "      <td>-0.001307</td>\n",
       "      <td>-0.010319</td>\n",
       "      <td>-0.011356</td>\n",
       "      <td>-0.008978</td>\n",
       "      <td>...</td>\n",
       "      <td>-0.025034</td>\n",
       "      <td>-0.021074</td>\n",
       "      <td>-0.023071</td>\n",
       "      <td>-0.018700</td>\n",
       "      <td>-0.019122</td>\n",
       "      <td>-0.023382</td>\n",
       "      <td>-0.036799</td>\n",
       "      <td>-0.018269</td>\n",
       "      <td>-0.015047</td>\n",
       "      <td>-0.009892</td>\n",
       "    </tr>\n",
       "    <tr>\n",
       "      <th>cat_BUSINESS</th>\n",
       "      <td>0.005676</td>\n",
       "      <td>0.080137</td>\n",
       "      <td>0.089631</td>\n",
       "      <td>-0.021903</td>\n",
       "      <td>-0.162791</td>\n",
       "      <td>0.083709</td>\n",
       "      <td>-0.001880</td>\n",
       "      <td>-0.014846</td>\n",
       "      <td>-0.016338</td>\n",
       "      <td>-0.012917</td>\n",
       "      <td>...</td>\n",
       "      <td>-0.036017</td>\n",
       "      <td>-0.030320</td>\n",
       "      <td>-0.033193</td>\n",
       "      <td>-0.026905</td>\n",
       "      <td>-0.027512</td>\n",
       "      <td>-0.033641</td>\n",
       "      <td>-0.052944</td>\n",
       "      <td>-0.026284</td>\n",
       "      <td>-0.021649</td>\n",
       "      <td>-0.014231</td>\n",
       "    </tr>\n",
       "    <tr>\n",
       "      <th>cat_COMICS</th>\n",
       "      <td>0.031050</td>\n",
       "      <td>0.025902</td>\n",
       "      <td>0.036849</td>\n",
       "      <td>0.068635</td>\n",
       "      <td>-0.035404</td>\n",
       "      <td>0.031347</td>\n",
       "      <td>-0.000660</td>\n",
       "      <td>-0.005215</td>\n",
       "      <td>-0.005739</td>\n",
       "      <td>-0.004537</td>\n",
       "      <td>...</td>\n",
       "      <td>-0.012651</td>\n",
       "      <td>-0.010650</td>\n",
       "      <td>-0.011659</td>\n",
       "      <td>-0.009450</td>\n",
       "      <td>-0.009664</td>\n",
       "      <td>-0.011816</td>\n",
       "      <td>-0.018597</td>\n",
       "      <td>-0.009232</td>\n",
       "      <td>-0.007604</td>\n",
       "      <td>-0.004999</td>\n",
       "    </tr>\n",
       "    <tr>\n",
       "      <th>cat_COMMUNICATION</th>\n",
       "      <td>0.043178</td>\n",
       "      <td>0.060211</td>\n",
       "      <td>0.051845</td>\n",
       "      <td>0.019244</td>\n",
       "      <td>-0.073254</td>\n",
       "      <td>0.066937</td>\n",
       "      <td>-0.001521</td>\n",
       "      <td>-0.012006</td>\n",
       "      <td>-0.013213</td>\n",
       "      <td>-0.010446</td>\n",
       "      <td>...</td>\n",
       "      <td>-0.029128</td>\n",
       "      <td>-0.024521</td>\n",
       "      <td>-0.026844</td>\n",
       "      <td>-0.021759</td>\n",
       "      <td>-0.022250</td>\n",
       "      <td>-0.027206</td>\n",
       "      <td>-0.042818</td>\n",
       "      <td>-0.021257</td>\n",
       "      <td>-0.017508</td>\n",
       "      <td>-0.011509</td>\n",
       "    </tr>\n",
       "    <tr>\n",
       "      <th>cat_DATING</th>\n",
       "      <td>0.054681</td>\n",
       "      <td>0.042870</td>\n",
       "      <td>0.067697</td>\n",
       "      <td>0.219287</td>\n",
       "      <td>-0.057913</td>\n",
       "      <td>0.065641</td>\n",
       "      <td>-0.001357</td>\n",
       "      <td>-0.010712</td>\n",
       "      <td>-0.011789</td>\n",
       "      <td>-0.009320</td>\n",
       "      <td>...</td>\n",
       "      <td>-0.025988</td>\n",
       "      <td>-0.021877</td>\n",
       "      <td>-0.023950</td>\n",
       "      <td>-0.019413</td>\n",
       "      <td>-0.019851</td>\n",
       "      <td>-0.024273</td>\n",
       "      <td>-0.038202</td>\n",
       "      <td>-0.018965</td>\n",
       "      <td>-0.015621</td>\n",
       "      <td>-0.010269</td>\n",
       "    </tr>\n",
       "    <tr>\n",
       "      <th>cat_EDUCATION</th>\n",
       "      <td>0.059186</td>\n",
       "      <td>0.054248</td>\n",
       "      <td>0.045712</td>\n",
       "      <td>-0.008472</td>\n",
       "      <td>-0.037265</td>\n",
       "      <td>0.044417</td>\n",
       "      <td>-0.000977</td>\n",
       "      <td>-0.007715</td>\n",
       "      <td>-0.008490</td>\n",
       "      <td>-0.006712</td>\n",
       "      <td>...</td>\n",
       "      <td>-0.018716</td>\n",
       "      <td>-0.015756</td>\n",
       "      <td>-0.017248</td>\n",
       "      <td>-0.013981</td>\n",
       "      <td>-0.014296</td>\n",
       "      <td>-0.017481</td>\n",
       "      <td>-0.027512</td>\n",
       "      <td>-0.013658</td>\n",
       "      <td>-0.011250</td>\n",
       "      <td>-0.007395</td>\n",
       "    </tr>\n",
       "    <tr>\n",
       "      <th>cat_ENTERTAINMENT</th>\n",
       "      <td>0.047016</td>\n",
       "      <td>0.035012</td>\n",
       "      <td>0.046599</td>\n",
       "      <td>0.144706</td>\n",
       "      <td>-0.002719</td>\n",
       "      <td>0.042135</td>\n",
       "      <td>-0.000879</td>\n",
       "      <td>-0.006940</td>\n",
       "      <td>-0.007637</td>\n",
       "      <td>-0.006038</td>\n",
       "      <td>...</td>\n",
       "      <td>-0.016836</td>\n",
       "      <td>-0.014173</td>\n",
       "      <td>-0.015516</td>\n",
       "      <td>-0.012577</td>\n",
       "      <td>-0.012861</td>\n",
       "      <td>-0.015725</td>\n",
       "      <td>-0.024749</td>\n",
       "      <td>-0.012287</td>\n",
       "      <td>-0.010120</td>\n",
       "      <td>-0.006652</td>\n",
       "    </tr>\n",
       "    <tr>\n",
       "      <th>cat_EVENTS</th>\n",
       "      <td>0.026990</td>\n",
       "      <td>0.040276</td>\n",
       "      <td>0.035904</td>\n",
       "      <td>0.008834</td>\n",
       "      <td>0.010421</td>\n",
       "      <td>0.032992</td>\n",
       "      <td>-0.000698</td>\n",
       "      <td>-0.005514</td>\n",
       "      <td>-0.006069</td>\n",
       "      <td>-0.004798</td>\n",
       "      <td>...</td>\n",
       "      <td>-0.013378</td>\n",
       "      <td>-0.011262</td>\n",
       "      <td>-0.012329</td>\n",
       "      <td>-0.009993</td>\n",
       "      <td>-0.010219</td>\n",
       "      <td>-0.012496</td>\n",
       "      <td>-0.019666</td>\n",
       "      <td>-0.009763</td>\n",
       "      <td>-0.008041</td>\n",
       "      <td>-0.005286</td>\n",
       "    </tr>\n",
       "    <tr>\n",
       "      <th>cat_FAMILY</th>\n",
       "      <td>0.086377</td>\n",
       "      <td>0.188558</td>\n",
       "      <td>0.136466</td>\n",
       "      <td>0.118167</td>\n",
       "      <td>0.032896</td>\n",
       "      <td>0.190390</td>\n",
       "      <td>0.021299</td>\n",
       "      <td>-0.034204</td>\n",
       "      <td>-0.037642</td>\n",
       "      <td>-0.029760</td>\n",
       "      <td>...</td>\n",
       "      <td>-0.082981</td>\n",
       "      <td>-0.069855</td>\n",
       "      <td>-0.076474</td>\n",
       "      <td>-0.061986</td>\n",
       "      <td>-0.063386</td>\n",
       "      <td>-0.077506</td>\n",
       "      <td>-0.121980</td>\n",
       "      <td>-0.060557</td>\n",
       "      <td>-0.049878</td>\n",
       "      <td>-0.032788</td>\n",
       "    </tr>\n",
       "    <tr>\n",
       "      <th>cat_FINANCE</th>\n",
       "      <td>0.029039</td>\n",
       "      <td>0.064305</td>\n",
       "      <td>0.068796</td>\n",
       "      <td>-0.028202</td>\n",
       "      <td>0.028968</td>\n",
       "      <td>0.076305</td>\n",
       "      <td>-0.001640</td>\n",
       "      <td>-0.012949</td>\n",
       "      <td>-0.014250</td>\n",
       "      <td>-0.011266</td>\n",
       "      <td>...</td>\n",
       "      <td>-0.031414</td>\n",
       "      <td>-0.026445</td>\n",
       "      <td>-0.028950</td>\n",
       "      <td>-0.023466</td>\n",
       "      <td>-0.023996</td>\n",
       "      <td>-0.029341</td>\n",
       "      <td>-0.046178</td>\n",
       "      <td>-0.022925</td>\n",
       "      <td>-0.018882</td>\n",
       "      <td>-0.012413</td>\n",
       "    </tr>\n",
       "    <tr>\n",
       "      <th>cat_FOOD_AND_DRINK</th>\n",
       "      <td>0.027777</td>\n",
       "      <td>0.035913</td>\n",
       "      <td>0.049400</td>\n",
       "      <td>-0.007592</td>\n",
       "      <td>0.018915</td>\n",
       "      <td>0.044145</td>\n",
       "      <td>-0.000927</td>\n",
       "      <td>-0.007319</td>\n",
       "      <td>-0.008054</td>\n",
       "      <td>-0.006368</td>\n",
       "      <td>...</td>\n",
       "      <td>-0.017755</td>\n",
       "      <td>-0.014947</td>\n",
       "      <td>-0.016363</td>\n",
       "      <td>-0.013263</td>\n",
       "      <td>-0.013563</td>\n",
       "      <td>-0.016584</td>\n",
       "      <td>-0.026100</td>\n",
       "      <td>-0.012957</td>\n",
       "      <td>-0.010672</td>\n",
       "      <td>-0.007016</td>\n",
       "    </tr>\n",
       "    <tr>\n",
       "      <th>cat_GAME</th>\n",
       "      <td>0.098947</td>\n",
       "      <td>0.148047</td>\n",
       "      <td>0.112184</td>\n",
       "      <td>0.275585</td>\n",
       "      <td>-0.205704</td>\n",
       "      <td>0.137347</td>\n",
       "      <td>-0.003087</td>\n",
       "      <td>-0.024378</td>\n",
       "      <td>-0.026828</td>\n",
       "      <td>-0.021210</td>\n",
       "      <td>...</td>\n",
       "      <td>-0.059142</td>\n",
       "      <td>-0.049787</td>\n",
       "      <td>-0.054504</td>\n",
       "      <td>-0.044179</td>\n",
       "      <td>-0.045176</td>\n",
       "      <td>-0.055240</td>\n",
       "      <td>-0.086937</td>\n",
       "      <td>-0.043160</td>\n",
       "      <td>-0.035549</td>\n",
       "      <td>-0.023369</td>\n",
       "    </tr>\n",
       "    <tr>\n",
       "      <th>cat_HEALTH_AND_FITNESS</th>\n",
       "      <td>0.036989</td>\n",
       "      <td>0.069286</td>\n",
       "      <td>0.067431</td>\n",
       "      <td>0.002363</td>\n",
       "      <td>0.035134</td>\n",
       "      <td>0.070393</td>\n",
       "      <td>-0.001518</td>\n",
       "      <td>-0.011983</td>\n",
       "      <td>-0.013188</td>\n",
       "      <td>-0.010426</td>\n",
       "      <td>...</td>\n",
       "      <td>-0.029072</td>\n",
       "      <td>-0.024473</td>\n",
       "      <td>-0.026792</td>\n",
       "      <td>-0.021716</td>\n",
       "      <td>-0.022207</td>\n",
       "      <td>-0.027154</td>\n",
       "      <td>-0.042735</td>\n",
       "      <td>-0.021216</td>\n",
       "      <td>-0.017474</td>\n",
       "      <td>-0.011487</td>\n",
       "    </tr>\n",
       "    <tr>\n",
       "      <th>cat_HOUSE_AND_HOME</th>\n",
       "      <td>0.038119</td>\n",
       "      <td>0.032404</td>\n",
       "      <td>0.042584</td>\n",
       "      <td>-0.010155</td>\n",
       "      <td>0.023949</td>\n",
       "      <td>0.034581</td>\n",
       "      <td>-0.000763</td>\n",
       "      <td>-0.006026</td>\n",
       "      <td>-0.006632</td>\n",
       "      <td>-0.005243</td>\n",
       "      <td>...</td>\n",
       "      <td>-0.014620</td>\n",
       "      <td>-0.012307</td>\n",
       "      <td>-0.013473</td>\n",
       "      <td>-0.010921</td>\n",
       "      <td>-0.011167</td>\n",
       "      <td>-0.013655</td>\n",
       "      <td>-0.021490</td>\n",
       "      <td>-0.010669</td>\n",
       "      <td>-0.008788</td>\n",
       "      <td>-0.005777</td>\n",
       "    </tr>\n",
       "    <tr>\n",
       "      <th>cat_LIBRARIES_AND_DEMO</th>\n",
       "      <td>0.000208</td>\n",
       "      <td>0.037805</td>\n",
       "      <td>0.044235</td>\n",
       "      <td>-0.018471</td>\n",
       "      <td>0.028617</td>\n",
       "      <td>0.035308</td>\n",
       "      <td>-0.000839</td>\n",
       "      <td>-0.006622</td>\n",
       "      <td>-0.007287</td>\n",
       "      <td>-0.005761</td>\n",
       "      <td>...</td>\n",
       "      <td>-0.016065</td>\n",
       "      <td>-0.013524</td>\n",
       "      <td>-0.014805</td>\n",
       "      <td>-0.012000</td>\n",
       "      <td>-0.012271</td>\n",
       "      <td>-0.015005</td>\n",
       "      <td>-0.023615</td>\n",
       "      <td>-0.011724</td>\n",
       "      <td>-0.009656</td>\n",
       "      <td>-0.006348</td>\n",
       "    </tr>\n",
       "    <tr>\n",
       "      <th>cat_LIFESTYLE</th>\n",
       "      <td>0.041507</td>\n",
       "      <td>0.067760</td>\n",
       "      <td>0.075718</td>\n",
       "      <td>0.003047</td>\n",
       "      <td>0.064235</td>\n",
       "      <td>0.077106</td>\n",
       "      <td>-0.001742</td>\n",
       "      <td>-0.013751</td>\n",
       "      <td>-0.015134</td>\n",
       "      <td>-0.011965</td>\n",
       "      <td>...</td>\n",
       "      <td>-0.033362</td>\n",
       "      <td>-0.028085</td>\n",
       "      <td>-0.030745</td>\n",
       "      <td>-0.024921</td>\n",
       "      <td>-0.025484</td>\n",
       "      <td>-0.031161</td>\n",
       "      <td>-0.049041</td>\n",
       "      <td>-0.024346</td>\n",
       "      <td>-0.020053</td>\n",
       "      <td>-0.013182</td>\n",
       "    </tr>\n",
       "    <tr>\n",
       "      <th>cat_MAPS_AND_NAVIGATION</th>\n",
       "      <td>0.026110</td>\n",
       "      <td>0.032176</td>\n",
       "      <td>0.044842</td>\n",
       "      <td>-0.013288</td>\n",
       "      <td>0.043456</td>\n",
       "      <td>0.043976</td>\n",
       "      <td>-0.000964</td>\n",
       "      <td>-0.007608</td>\n",
       "      <td>-0.008373</td>\n",
       "      <td>-0.006620</td>\n",
       "      <td>...</td>\n",
       "      <td>-0.018459</td>\n",
       "      <td>-0.015539</td>\n",
       "      <td>-0.017011</td>\n",
       "      <td>-0.013789</td>\n",
       "      <td>-0.014100</td>\n",
       "      <td>-0.017241</td>\n",
       "      <td>-0.027134</td>\n",
       "      <td>-0.013471</td>\n",
       "      <td>-0.011095</td>\n",
       "      <td>-0.007294</td>\n",
       "    </tr>\n",
       "    <tr>\n",
       "      <th>cat_MEDICAL</th>\n",
       "      <td>0.045064</td>\n",
       "      <td>0.086734</td>\n",
       "      <td>-0.001301</td>\n",
       "      <td>-0.026680</td>\n",
       "      <td>0.093848</td>\n",
       "      <td>0.087968</td>\n",
       "      <td>-0.001962</td>\n",
       "      <td>-0.015489</td>\n",
       "      <td>-0.017046</td>\n",
       "      <td>-0.013477</td>\n",
       "      <td>...</td>\n",
       "      <td>-0.037578</td>\n",
       "      <td>-0.031634</td>\n",
       "      <td>-0.034631</td>\n",
       "      <td>-0.028071</td>\n",
       "      <td>-0.028704</td>\n",
       "      <td>-0.035099</td>\n",
       "      <td>-0.055239</td>\n",
       "      <td>-0.027423</td>\n",
       "      <td>-0.022587</td>\n",
       "      <td>-0.014848</td>\n",
       "    </tr>\n",
       "    <tr>\n",
       "      <th>cat_NEWS_AND_MAGAZINES</th>\n",
       "      <td>0.034279</td>\n",
       "      <td>0.057349</td>\n",
       "      <td>0.073251</td>\n",
       "      <td>0.056936</td>\n",
       "      <td>0.080554</td>\n",
       "      <td>0.063207</td>\n",
       "      <td>-0.001370</td>\n",
       "      <td>-0.010815</td>\n",
       "      <td>-0.011902</td>\n",
       "      <td>-0.009409</td>\n",
       "      <td>...</td>\n",
       "      <td>-0.026237</td>\n",
       "      <td>-0.022087</td>\n",
       "      <td>-0.024179</td>\n",
       "      <td>-0.019599</td>\n",
       "      <td>-0.020041</td>\n",
       "      <td>-0.024506</td>\n",
       "      <td>-0.038568</td>\n",
       "      <td>-0.019147</td>\n",
       "      <td>-0.015770</td>\n",
       "      <td>-0.010367</td>\n",
       "    </tr>\n",
       "    <tr>\n",
       "      <th>cat_PARENTING</th>\n",
       "      <td>0.013981</td>\n",
       "      <td>0.035621</td>\n",
       "      <td>0.034776</td>\n",
       "      <td>-0.008751</td>\n",
       "      <td>0.042874</td>\n",
       "      <td>0.032391</td>\n",
       "      <td>-0.000680</td>\n",
       "      <td>-0.005367</td>\n",
       "      <td>-0.005906</td>\n",
       "      <td>-0.004669</td>\n",
       "      <td>...</td>\n",
       "      <td>-0.013020</td>\n",
       "      <td>-0.010960</td>\n",
       "      <td>-0.011999</td>\n",
       "      <td>-0.009726</td>\n",
       "      <td>-0.009945</td>\n",
       "      <td>-0.012161</td>\n",
       "      <td>-0.019138</td>\n",
       "      <td>-0.009501</td>\n",
       "      <td>-0.007826</td>\n",
       "      <td>-0.005144</td>\n",
       "    </tr>\n",
       "    <tr>\n",
       "      <th>cat_PERSONALIZATION</th>\n",
       "      <td>0.064914</td>\n",
       "      <td>0.090352</td>\n",
       "      <td>0.000274</td>\n",
       "      <td>0.045699</td>\n",
       "      <td>0.128196</td>\n",
       "      <td>0.074449</td>\n",
       "      <td>-0.001767</td>\n",
       "      <td>-0.013956</td>\n",
       "      <td>-0.015359</td>\n",
       "      <td>-0.012142</td>\n",
       "      <td>...</td>\n",
       "      <td>1.000000</td>\n",
       "      <td>-0.028502</td>\n",
       "      <td>-0.031203</td>\n",
       "      <td>-0.025292</td>\n",
       "      <td>-0.025863</td>\n",
       "      <td>-0.031624</td>\n",
       "      <td>-0.049770</td>\n",
       "      <td>-0.024709</td>\n",
       "      <td>-0.020351</td>\n",
       "      <td>-0.013378</td>\n",
       "    </tr>\n",
       "    <tr>\n",
       "      <th>cat_PHOTOGRAPHY</th>\n",
       "      <td>0.035649</td>\n",
       "      <td>0.060363</td>\n",
       "      <td>0.055192</td>\n",
       "      <td>-0.006143</td>\n",
       "      <td>0.112000</td>\n",
       "      <td>0.066506</td>\n",
       "      <td>-0.001488</td>\n",
       "      <td>-0.011748</td>\n",
       "      <td>-0.012929</td>\n",
       "      <td>-0.010222</td>\n",
       "      <td>...</td>\n",
       "      <td>-0.028502</td>\n",
       "      <td>1.000000</td>\n",
       "      <td>-0.026267</td>\n",
       "      <td>-0.021291</td>\n",
       "      <td>-0.021772</td>\n",
       "      <td>-0.026622</td>\n",
       "      <td>-0.041898</td>\n",
       "      <td>-0.020800</td>\n",
       "      <td>-0.017132</td>\n",
       "      <td>-0.011262</td>\n",
       "    </tr>\n",
       "    <tr>\n",
       "      <th>cat_PRODUCTIVITY</th>\n",
       "      <td>0.031217</td>\n",
       "      <td>0.068320</td>\n",
       "      <td>0.058627</td>\n",
       "      <td>-0.023127</td>\n",
       "      <td>0.127080</td>\n",
       "      <td>0.071489</td>\n",
       "      <td>-0.001629</td>\n",
       "      <td>-0.012861</td>\n",
       "      <td>-0.014154</td>\n",
       "      <td>-0.011190</td>\n",
       "      <td>...</td>\n",
       "      <td>-0.031203</td>\n",
       "      <td>-0.026267</td>\n",
       "      <td>1.000000</td>\n",
       "      <td>-0.023308</td>\n",
       "      <td>-0.023834</td>\n",
       "      <td>-0.029144</td>\n",
       "      <td>-0.045867</td>\n",
       "      <td>-0.022771</td>\n",
       "      <td>-0.018755</td>\n",
       "      <td>-0.012329</td>\n",
       "    </tr>\n",
       "    <tr>\n",
       "      <th>cat_SHOPPING</th>\n",
       "      <td>0.049120</td>\n",
       "      <td>0.060295</td>\n",
       "      <td>0.070384</td>\n",
       "      <td>0.029342</td>\n",
       "      <td>0.153714</td>\n",
       "      <td>0.062426</td>\n",
       "      <td>-0.001320</td>\n",
       "      <td>-0.010425</td>\n",
       "      <td>-0.011473</td>\n",
       "      <td>-0.009070</td>\n",
       "      <td>...</td>\n",
       "      <td>-0.025292</td>\n",
       "      <td>-0.021291</td>\n",
       "      <td>-0.023308</td>\n",
       "      <td>1.000000</td>\n",
       "      <td>-0.019319</td>\n",
       "      <td>-0.023623</td>\n",
       "      <td>-0.037178</td>\n",
       "      <td>-0.018457</td>\n",
       "      <td>-0.015202</td>\n",
       "      <td>-0.009993</td>\n",
       "    </tr>\n",
       "    <tr>\n",
       "      <th>cat_SOCIAL</th>\n",
       "      <td>0.057332</td>\n",
       "      <td>0.064129</td>\n",
       "      <td>0.070509</td>\n",
       "      <td>0.190094</td>\n",
       "      <td>0.175703</td>\n",
       "      <td>0.061332</td>\n",
       "      <td>-0.001350</td>\n",
       "      <td>-0.010660</td>\n",
       "      <td>-0.011732</td>\n",
       "      <td>-0.009275</td>\n",
       "      <td>...</td>\n",
       "      <td>-0.025863</td>\n",
       "      <td>-0.021772</td>\n",
       "      <td>-0.023834</td>\n",
       "      <td>-0.019319</td>\n",
       "      <td>1.000000</td>\n",
       "      <td>-0.024156</td>\n",
       "      <td>-0.038017</td>\n",
       "      <td>-0.018874</td>\n",
       "      <td>-0.015545</td>\n",
       "      <td>-0.010219</td>\n",
       "    </tr>\n",
       "    <tr>\n",
       "      <th>cat_SPORTS</th>\n",
       "      <td>0.038876</td>\n",
       "      <td>0.074162</td>\n",
       "      <td>0.062914</td>\n",
       "      <td>-0.009083</td>\n",
       "      <td>0.219373</td>\n",
       "      <td>0.076017</td>\n",
       "      <td>-0.001651</td>\n",
       "      <td>-0.013035</td>\n",
       "      <td>-0.014345</td>\n",
       "      <td>-0.011341</td>\n",
       "      <td>...</td>\n",
       "      <td>-0.031624</td>\n",
       "      <td>-0.026622</td>\n",
       "      <td>-0.029144</td>\n",
       "      <td>-0.023623</td>\n",
       "      <td>-0.024156</td>\n",
       "      <td>1.000000</td>\n",
       "      <td>-0.046486</td>\n",
       "      <td>-0.023078</td>\n",
       "      <td>-0.019008</td>\n",
       "      <td>-0.012496</td>\n",
       "    </tr>\n",
       "    <tr>\n",
       "      <th>cat_TOOLS</th>\n",
       "      <td>0.043116</td>\n",
       "      <td>0.087428</td>\n",
       "      <td>0.084313</td>\n",
       "      <td>-0.049235</td>\n",
       "      <td>0.388017</td>\n",
       "      <td>0.112974</td>\n",
       "      <td>-0.002598</td>\n",
       "      <td>-0.020515</td>\n",
       "      <td>-0.022577</td>\n",
       "      <td>-0.017849</td>\n",
       "      <td>...</td>\n",
       "      <td>-0.049770</td>\n",
       "      <td>-0.041898</td>\n",
       "      <td>-0.045867</td>\n",
       "      <td>-0.037178</td>\n",
       "      <td>-0.038017</td>\n",
       "      <td>-0.046486</td>\n",
       "      <td>1.000000</td>\n",
       "      <td>-0.036321</td>\n",
       "      <td>-0.029916</td>\n",
       "      <td>-0.019666</td>\n",
       "    </tr>\n",
       "    <tr>\n",
       "      <th>cat_TRAVEL_AND_LOCAL</th>\n",
       "      <td>0.039711</td>\n",
       "      <td>0.046259</td>\n",
       "      <td>0.055173</td>\n",
       "      <td>-0.021107</td>\n",
       "      <td>0.199727</td>\n",
       "      <td>0.059161</td>\n",
       "      <td>-0.001290</td>\n",
       "      <td>-0.010185</td>\n",
       "      <td>-0.011208</td>\n",
       "      <td>-0.008861</td>\n",
       "      <td>...</td>\n",
       "      <td>-0.024709</td>\n",
       "      <td>-0.020800</td>\n",
       "      <td>-0.022771</td>\n",
       "      <td>-0.018457</td>\n",
       "      <td>-0.018874</td>\n",
       "      <td>-0.023078</td>\n",
       "      <td>-0.036321</td>\n",
       "      <td>1.000000</td>\n",
       "      <td>-0.014852</td>\n",
       "      <td>-0.009763</td>\n",
       "    </tr>\n",
       "    <tr>\n",
       "      <th>cat_VIDEO_PLAYERS</th>\n",
       "      <td>0.031314</td>\n",
       "      <td>0.036108</td>\n",
       "      <td>0.057251</td>\n",
       "      <td>0.015871</td>\n",
       "      <td>0.176171</td>\n",
       "      <td>0.046644</td>\n",
       "      <td>-0.001062</td>\n",
       "      <td>-0.008389</td>\n",
       "      <td>-0.009232</td>\n",
       "      <td>-0.007299</td>\n",
       "      <td>...</td>\n",
       "      <td>-0.020351</td>\n",
       "      <td>-0.017132</td>\n",
       "      <td>-0.018755</td>\n",
       "      <td>-0.015202</td>\n",
       "      <td>-0.015545</td>\n",
       "      <td>-0.019008</td>\n",
       "      <td>-0.029916</td>\n",
       "      <td>-0.014852</td>\n",
       "      <td>1.000000</td>\n",
       "      <td>-0.008041</td>\n",
       "    </tr>\n",
       "    <tr>\n",
       "      <th>cat_WEATHER</th>\n",
       "      <td>0.057287</td>\n",
       "      <td>0.032421</td>\n",
       "      <td>0.020586</td>\n",
       "      <td>-0.006907</td>\n",
       "      <td>0.121541</td>\n",
       "      <td>0.030992</td>\n",
       "      <td>-0.000698</td>\n",
       "      <td>-0.005514</td>\n",
       "      <td>-0.006069</td>\n",
       "      <td>-0.004798</td>\n",
       "      <td>...</td>\n",
       "      <td>-0.013378</td>\n",
       "      <td>-0.011262</td>\n",
       "      <td>-0.012329</td>\n",
       "      <td>-0.009993</td>\n",
       "      <td>-0.010219</td>\n",
       "      <td>-0.012496</td>\n",
       "      <td>-0.019666</td>\n",
       "      <td>-0.009763</td>\n",
       "      <td>-0.008041</td>\n",
       "      <td>1.000000</td>\n",
       "    </tr>\n",
       "  </tbody>\n",
       "</table>\n",
       "<p>40 rows × 40 columns</p>\n",
       "</div>"
      ],
      "text/plain": [
       "                              App    Rating      Type  Content Rating  \\\n",
       "App                      1.000000  0.545810  0.446999        0.318116   \n",
       "Rating                   0.545810  1.000000  0.761784        0.482900   \n",
       "Type                     0.446999  0.761784  1.000000        0.424255   \n",
       "Content Rating           0.318116  0.482900  0.424255        1.000000   \n",
       "Genres                   0.354208  0.569438  0.488121        0.207407   \n",
       "Last Updated             0.566759  0.957377  0.808278        0.501613   \n",
       "Current Ver              0.017301  0.005808  0.005148       -0.002032   \n",
       "cat_ART_AND_DESIGN       0.034379  0.039097  0.031836       -0.004434   \n",
       "cat_AUTO_AND_VEHICLES    0.028638  0.033268  0.039390       -0.013434   \n",
       "cat_BEAUTY               0.021334  0.031344  0.035368        0.008696   \n",
       "cat_BOOKS_AND_REFERENCE  0.000038  0.066426  0.028134       -0.007150   \n",
       "cat_BUSINESS             0.005676  0.080137  0.089631       -0.021903   \n",
       "cat_COMICS               0.031050  0.025902  0.036849        0.068635   \n",
       "cat_COMMUNICATION        0.043178  0.060211  0.051845        0.019244   \n",
       "cat_DATING               0.054681  0.042870  0.067697        0.219287   \n",
       "cat_EDUCATION            0.059186  0.054248  0.045712       -0.008472   \n",
       "cat_ENTERTAINMENT        0.047016  0.035012  0.046599        0.144706   \n",
       "cat_EVENTS               0.026990  0.040276  0.035904        0.008834   \n",
       "cat_FAMILY               0.086377  0.188558  0.136466        0.118167   \n",
       "cat_FINANCE              0.029039  0.064305  0.068796       -0.028202   \n",
       "cat_FOOD_AND_DRINK       0.027777  0.035913  0.049400       -0.007592   \n",
       "cat_GAME                 0.098947  0.148047  0.112184        0.275585   \n",
       "cat_HEALTH_AND_FITNESS   0.036989  0.069286  0.067431        0.002363   \n",
       "cat_HOUSE_AND_HOME       0.038119  0.032404  0.042584       -0.010155   \n",
       "cat_LIBRARIES_AND_DEMO   0.000208  0.037805  0.044235       -0.018471   \n",
       "cat_LIFESTYLE            0.041507  0.067760  0.075718        0.003047   \n",
       "cat_MAPS_AND_NAVIGATION  0.026110  0.032176  0.044842       -0.013288   \n",
       "cat_MEDICAL              0.045064  0.086734 -0.001301       -0.026680   \n",
       "cat_NEWS_AND_MAGAZINES   0.034279  0.057349  0.073251        0.056936   \n",
       "cat_PARENTING            0.013981  0.035621  0.034776       -0.008751   \n",
       "cat_PERSONALIZATION      0.064914  0.090352  0.000274        0.045699   \n",
       "cat_PHOTOGRAPHY          0.035649  0.060363  0.055192       -0.006143   \n",
       "cat_PRODUCTIVITY         0.031217  0.068320  0.058627       -0.023127   \n",
       "cat_SHOPPING             0.049120  0.060295  0.070384        0.029342   \n",
       "cat_SOCIAL               0.057332  0.064129  0.070509        0.190094   \n",
       "cat_SPORTS               0.038876  0.074162  0.062914       -0.009083   \n",
       "cat_TOOLS                0.043116  0.087428  0.084313       -0.049235   \n",
       "cat_TRAVEL_AND_LOCAL     0.039711  0.046259  0.055173       -0.021107   \n",
       "cat_VIDEO_PLAYERS        0.031314  0.036108  0.057251        0.015871   \n",
       "cat_WEATHER              0.057287  0.032421  0.020586       -0.006907   \n",
       "\n",
       "                           Genres  Last Updated  Current Ver  \\\n",
       "App                      0.354208      0.566759     0.017301   \n",
       "Rating                   0.569438      0.957377     0.005808   \n",
       "Type                     0.488121      0.808278     0.005148   \n",
       "Content Rating           0.207407      0.501613    -0.002032   \n",
       "Genres                   1.000000      0.607336    -0.001914   \n",
       "Last Updated             0.607336      1.000000     0.004505   \n",
       "Current Ver             -0.001914      0.004505     1.000000   \n",
       "cat_ART_AND_DESIGN      -0.088609      0.034533    -0.000729   \n",
       "cat_AUTO_AND_VEHICLES   -0.089214      0.038078    -0.000802   \n",
       "cat_BEAUTY              -0.068793      0.029979    -0.000634   \n",
       "cat_BOOKS_AND_REFERENCE -0.123905      0.055234    -0.001307   \n",
       "cat_BUSINESS            -0.162791      0.083709    -0.001880   \n",
       "cat_COMICS              -0.035404      0.031347    -0.000660   \n",
       "cat_COMMUNICATION       -0.073254      0.066937    -0.001521   \n",
       "cat_DATING              -0.057913      0.065641    -0.001357   \n",
       "cat_EDUCATION           -0.037265      0.044417    -0.000977   \n",
       "cat_ENTERTAINMENT       -0.002719      0.042135    -0.000879   \n",
       "cat_EVENTS               0.010421      0.032992    -0.000698   \n",
       "cat_FAMILY               0.032896      0.190390     0.021299   \n",
       "cat_FINANCE              0.028968      0.076305    -0.001640   \n",
       "cat_FOOD_AND_DRINK       0.018915      0.044145    -0.000927   \n",
       "cat_GAME                -0.205704      0.137347    -0.003087   \n",
       "cat_HEALTH_AND_FITNESS   0.035134      0.070393    -0.001518   \n",
       "cat_HOUSE_AND_HOME       0.023949      0.034581    -0.000763   \n",
       "cat_LIBRARIES_AND_DEMO   0.028617      0.035308    -0.000839   \n",
       "cat_LIFESTYLE            0.064235      0.077106    -0.001742   \n",
       "cat_MAPS_AND_NAVIGATION  0.043456      0.043976    -0.000964   \n",
       "cat_MEDICAL              0.093848      0.087968    -0.001962   \n",
       "cat_NEWS_AND_MAGAZINES   0.080554      0.063207    -0.001370   \n",
       "cat_PARENTING            0.042874      0.032391    -0.000680   \n",
       "cat_PERSONALIZATION      0.128196      0.074449    -0.001767   \n",
       "cat_PHOTOGRAPHY          0.112000      0.066506    -0.001488   \n",
       "cat_PRODUCTIVITY         0.127080      0.071489    -0.001629   \n",
       "cat_SHOPPING             0.153714      0.062426    -0.001320   \n",
       "cat_SOCIAL               0.175703      0.061332    -0.001350   \n",
       "cat_SPORTS               0.219373      0.076017    -0.001651   \n",
       "cat_TOOLS                0.388017      0.112974    -0.002598   \n",
       "cat_TRAVEL_AND_LOCAL     0.199727      0.059161    -0.001290   \n",
       "cat_VIDEO_PLAYERS        0.176171      0.046644    -0.001062   \n",
       "cat_WEATHER              0.121541      0.030992    -0.000698   \n",
       "\n",
       "                         cat_ART_AND_DESIGN  cat_AUTO_AND_VEHICLES  \\\n",
       "App                                0.034379               0.028638   \n",
       "Rating                             0.039097               0.033268   \n",
       "Type                               0.031836               0.039390   \n",
       "Content Rating                    -0.004434              -0.013434   \n",
       "Genres                            -0.088609              -0.089214   \n",
       "Last Updated                       0.034533               0.038078   \n",
       "Current Ver                       -0.000729              -0.000802   \n",
       "cat_ART_AND_DESIGN                 1.000000              -0.006331   \n",
       "cat_AUTO_AND_VEHICLES             -0.006331               1.000000   \n",
       "cat_BEAUTY                        -0.005005              -0.005508   \n",
       "cat_BOOKS_AND_REFERENCE           -0.010319              -0.011356   \n",
       "cat_BUSINESS                      -0.014846              -0.016338   \n",
       "cat_COMICS                        -0.005215              -0.005739   \n",
       "cat_COMMUNICATION                 -0.012006              -0.013213   \n",
       "cat_DATING                        -0.010712              -0.011789   \n",
       "cat_EDUCATION                     -0.007715              -0.008490   \n",
       "cat_ENTERTAINMENT                 -0.006940              -0.007637   \n",
       "cat_EVENTS                        -0.005514              -0.006069   \n",
       "cat_FAMILY                        -0.034204              -0.037642   \n",
       "cat_FINANCE                       -0.012949              -0.014250   \n",
       "cat_FOOD_AND_DRINK                -0.007319              -0.008054   \n",
       "cat_GAME                          -0.024378              -0.026828   \n",
       "cat_HEALTH_AND_FITNESS            -0.011983              -0.013188   \n",
       "cat_HOUSE_AND_HOME                -0.006026              -0.006632   \n",
       "cat_LIBRARIES_AND_DEMO            -0.006622              -0.007287   \n",
       "cat_LIFESTYLE                     -0.013751              -0.015134   \n",
       "cat_MAPS_AND_NAVIGATION           -0.007608              -0.008373   \n",
       "cat_MEDICAL                       -0.015489              -0.017046   \n",
       "cat_NEWS_AND_MAGAZINES            -0.010815              -0.011902   \n",
       "cat_PARENTING                     -0.005367              -0.005906   \n",
       "cat_PERSONALIZATION               -0.013956              -0.015359   \n",
       "cat_PHOTOGRAPHY                   -0.011748              -0.012929   \n",
       "cat_PRODUCTIVITY                  -0.012861              -0.014154   \n",
       "cat_SHOPPING                      -0.010425              -0.011473   \n",
       "cat_SOCIAL                        -0.010660              -0.011732   \n",
       "cat_SPORTS                        -0.013035              -0.014345   \n",
       "cat_TOOLS                         -0.020515              -0.022577   \n",
       "cat_TRAVEL_AND_LOCAL              -0.010185              -0.011208   \n",
       "cat_VIDEO_PLAYERS                 -0.008389              -0.009232   \n",
       "cat_WEATHER                       -0.005514              -0.006069   \n",
       "\n",
       "                         cat_BEAUTY  ...  cat_PERSONALIZATION  \\\n",
       "App                        0.021334  ...             0.064914   \n",
       "Rating                     0.031344  ...             0.090352   \n",
       "Type                       0.035368  ...             0.000274   \n",
       "Content Rating             0.008696  ...             0.045699   \n",
       "Genres                    -0.068793  ...             0.128196   \n",
       "Last Updated               0.029979  ...             0.074449   \n",
       "Current Ver               -0.000634  ...            -0.001767   \n",
       "cat_ART_AND_DESIGN        -0.005005  ...            -0.013956   \n",
       "cat_AUTO_AND_VEHICLES     -0.005508  ...            -0.015359   \n",
       "cat_BEAUTY                 1.000000  ...            -0.012142   \n",
       "cat_BOOKS_AND_REFERENCE   -0.008978  ...            -0.025034   \n",
       "cat_BUSINESS              -0.012917  ...            -0.036017   \n",
       "cat_COMICS                -0.004537  ...            -0.012651   \n",
       "cat_COMMUNICATION         -0.010446  ...            -0.029128   \n",
       "cat_DATING                -0.009320  ...            -0.025988   \n",
       "cat_EDUCATION             -0.006712  ...            -0.018716   \n",
       "cat_ENTERTAINMENT         -0.006038  ...            -0.016836   \n",
       "cat_EVENTS                -0.004798  ...            -0.013378   \n",
       "cat_FAMILY                -0.029760  ...            -0.082981   \n",
       "cat_FINANCE               -0.011266  ...            -0.031414   \n",
       "cat_FOOD_AND_DRINK        -0.006368  ...            -0.017755   \n",
       "cat_GAME                  -0.021210  ...            -0.059142   \n",
       "cat_HEALTH_AND_FITNESS    -0.010426  ...            -0.029072   \n",
       "cat_HOUSE_AND_HOME        -0.005243  ...            -0.014620   \n",
       "cat_LIBRARIES_AND_DEMO    -0.005761  ...            -0.016065   \n",
       "cat_LIFESTYLE             -0.011965  ...            -0.033362   \n",
       "cat_MAPS_AND_NAVIGATION   -0.006620  ...            -0.018459   \n",
       "cat_MEDICAL               -0.013477  ...            -0.037578   \n",
       "cat_NEWS_AND_MAGAZINES    -0.009409  ...            -0.026237   \n",
       "cat_PARENTING             -0.004669  ...            -0.013020   \n",
       "cat_PERSONALIZATION       -0.012142  ...             1.000000   \n",
       "cat_PHOTOGRAPHY           -0.010222  ...            -0.028502   \n",
       "cat_PRODUCTIVITY          -0.011190  ...            -0.031203   \n",
       "cat_SHOPPING              -0.009070  ...            -0.025292   \n",
       "cat_SOCIAL                -0.009275  ...            -0.025863   \n",
       "cat_SPORTS                -0.011341  ...            -0.031624   \n",
       "cat_TOOLS                 -0.017849  ...            -0.049770   \n",
       "cat_TRAVEL_AND_LOCAL      -0.008861  ...            -0.024709   \n",
       "cat_VIDEO_PLAYERS         -0.007299  ...            -0.020351   \n",
       "cat_WEATHER               -0.004798  ...            -0.013378   \n",
       "\n",
       "                         cat_PHOTOGRAPHY  cat_PRODUCTIVITY  cat_SHOPPING  \\\n",
       "App                             0.035649          0.031217      0.049120   \n",
       "Rating                          0.060363          0.068320      0.060295   \n",
       "Type                            0.055192          0.058627      0.070384   \n",
       "Content Rating                 -0.006143         -0.023127      0.029342   \n",
       "Genres                          0.112000          0.127080      0.153714   \n",
       "Last Updated                    0.066506          0.071489      0.062426   \n",
       "Current Ver                    -0.001488         -0.001629     -0.001320   \n",
       "cat_ART_AND_DESIGN             -0.011748         -0.012861     -0.010425   \n",
       "cat_AUTO_AND_VEHICLES          -0.012929         -0.014154     -0.011473   \n",
       "cat_BEAUTY                     -0.010222         -0.011190     -0.009070   \n",
       "cat_BOOKS_AND_REFERENCE        -0.021074         -0.023071     -0.018700   \n",
       "cat_BUSINESS                   -0.030320         -0.033193     -0.026905   \n",
       "cat_COMICS                     -0.010650         -0.011659     -0.009450   \n",
       "cat_COMMUNICATION              -0.024521         -0.026844     -0.021759   \n",
       "cat_DATING                     -0.021877         -0.023950     -0.019413   \n",
       "cat_EDUCATION                  -0.015756         -0.017248     -0.013981   \n",
       "cat_ENTERTAINMENT              -0.014173         -0.015516     -0.012577   \n",
       "cat_EVENTS                     -0.011262         -0.012329     -0.009993   \n",
       "cat_FAMILY                     -0.069855         -0.076474     -0.061986   \n",
       "cat_FINANCE                    -0.026445         -0.028950     -0.023466   \n",
       "cat_FOOD_AND_DRINK             -0.014947         -0.016363     -0.013263   \n",
       "cat_GAME                       -0.049787         -0.054504     -0.044179   \n",
       "cat_HEALTH_AND_FITNESS         -0.024473         -0.026792     -0.021716   \n",
       "cat_HOUSE_AND_HOME             -0.012307         -0.013473     -0.010921   \n",
       "cat_LIBRARIES_AND_DEMO         -0.013524         -0.014805     -0.012000   \n",
       "cat_LIFESTYLE                  -0.028085         -0.030745     -0.024921   \n",
       "cat_MAPS_AND_NAVIGATION        -0.015539         -0.017011     -0.013789   \n",
       "cat_MEDICAL                    -0.031634         -0.034631     -0.028071   \n",
       "cat_NEWS_AND_MAGAZINES         -0.022087         -0.024179     -0.019599   \n",
       "cat_PARENTING                  -0.010960         -0.011999     -0.009726   \n",
       "cat_PERSONALIZATION            -0.028502         -0.031203     -0.025292   \n",
       "cat_PHOTOGRAPHY                 1.000000         -0.026267     -0.021291   \n",
       "cat_PRODUCTIVITY               -0.026267          1.000000     -0.023308   \n",
       "cat_SHOPPING                   -0.021291         -0.023308      1.000000   \n",
       "cat_SOCIAL                     -0.021772         -0.023834     -0.019319   \n",
       "cat_SPORTS                     -0.026622         -0.029144     -0.023623   \n",
       "cat_TOOLS                      -0.041898         -0.045867     -0.037178   \n",
       "cat_TRAVEL_AND_LOCAL           -0.020800         -0.022771     -0.018457   \n",
       "cat_VIDEO_PLAYERS              -0.017132         -0.018755     -0.015202   \n",
       "cat_WEATHER                    -0.011262         -0.012329     -0.009993   \n",
       "\n",
       "                         cat_SOCIAL  cat_SPORTS  cat_TOOLS  \\\n",
       "App                        0.057332    0.038876   0.043116   \n",
       "Rating                     0.064129    0.074162   0.087428   \n",
       "Type                       0.070509    0.062914   0.084313   \n",
       "Content Rating             0.190094   -0.009083  -0.049235   \n",
       "Genres                     0.175703    0.219373   0.388017   \n",
       "Last Updated               0.061332    0.076017   0.112974   \n",
       "Current Ver               -0.001350   -0.001651  -0.002598   \n",
       "cat_ART_AND_DESIGN        -0.010660   -0.013035  -0.020515   \n",
       "cat_AUTO_AND_VEHICLES     -0.011732   -0.014345  -0.022577   \n",
       "cat_BEAUTY                -0.009275   -0.011341  -0.017849   \n",
       "cat_BOOKS_AND_REFERENCE   -0.019122   -0.023382  -0.036799   \n",
       "cat_BUSINESS              -0.027512   -0.033641  -0.052944   \n",
       "cat_COMICS                -0.009664   -0.011816  -0.018597   \n",
       "cat_COMMUNICATION         -0.022250   -0.027206  -0.042818   \n",
       "cat_DATING                -0.019851   -0.024273  -0.038202   \n",
       "cat_EDUCATION             -0.014296   -0.017481  -0.027512   \n",
       "cat_ENTERTAINMENT         -0.012861   -0.015725  -0.024749   \n",
       "cat_EVENTS                -0.010219   -0.012496  -0.019666   \n",
       "cat_FAMILY                -0.063386   -0.077506  -0.121980   \n",
       "cat_FINANCE               -0.023996   -0.029341  -0.046178   \n",
       "cat_FOOD_AND_DRINK        -0.013563   -0.016584  -0.026100   \n",
       "cat_GAME                  -0.045176   -0.055240  -0.086937   \n",
       "cat_HEALTH_AND_FITNESS    -0.022207   -0.027154  -0.042735   \n",
       "cat_HOUSE_AND_HOME        -0.011167   -0.013655  -0.021490   \n",
       "cat_LIBRARIES_AND_DEMO    -0.012271   -0.015005  -0.023615   \n",
       "cat_LIFESTYLE             -0.025484   -0.031161  -0.049041   \n",
       "cat_MAPS_AND_NAVIGATION   -0.014100   -0.017241  -0.027134   \n",
       "cat_MEDICAL               -0.028704   -0.035099  -0.055239   \n",
       "cat_NEWS_AND_MAGAZINES    -0.020041   -0.024506  -0.038568   \n",
       "cat_PARENTING             -0.009945   -0.012161  -0.019138   \n",
       "cat_PERSONALIZATION       -0.025863   -0.031624  -0.049770   \n",
       "cat_PHOTOGRAPHY           -0.021772   -0.026622  -0.041898   \n",
       "cat_PRODUCTIVITY          -0.023834   -0.029144  -0.045867   \n",
       "cat_SHOPPING              -0.019319   -0.023623  -0.037178   \n",
       "cat_SOCIAL                 1.000000   -0.024156  -0.038017   \n",
       "cat_SPORTS                -0.024156    1.000000  -0.046486   \n",
       "cat_TOOLS                 -0.038017   -0.046486   1.000000   \n",
       "cat_TRAVEL_AND_LOCAL      -0.018874   -0.023078  -0.036321   \n",
       "cat_VIDEO_PLAYERS         -0.015545   -0.019008  -0.029916   \n",
       "cat_WEATHER               -0.010219   -0.012496  -0.019666   \n",
       "\n",
       "                         cat_TRAVEL_AND_LOCAL  cat_VIDEO_PLAYERS  cat_WEATHER  \n",
       "App                                  0.039711           0.031314     0.057287  \n",
       "Rating                               0.046259           0.036108     0.032421  \n",
       "Type                                 0.055173           0.057251     0.020586  \n",
       "Content Rating                      -0.021107           0.015871    -0.006907  \n",
       "Genres                               0.199727           0.176171     0.121541  \n",
       "Last Updated                         0.059161           0.046644     0.030992  \n",
       "Current Ver                         -0.001290          -0.001062    -0.000698  \n",
       "cat_ART_AND_DESIGN                  -0.010185          -0.008389    -0.005514  \n",
       "cat_AUTO_AND_VEHICLES               -0.011208          -0.009232    -0.006069  \n",
       "cat_BEAUTY                          -0.008861          -0.007299    -0.004798  \n",
       "cat_BOOKS_AND_REFERENCE             -0.018269          -0.015047    -0.009892  \n",
       "cat_BUSINESS                        -0.026284          -0.021649    -0.014231  \n",
       "cat_COMICS                          -0.009232          -0.007604    -0.004999  \n",
       "cat_COMMUNICATION                   -0.021257          -0.017508    -0.011509  \n",
       "cat_DATING                          -0.018965          -0.015621    -0.010269  \n",
       "cat_EDUCATION                       -0.013658          -0.011250    -0.007395  \n",
       "cat_ENTERTAINMENT                   -0.012287          -0.010120    -0.006652  \n",
       "cat_EVENTS                          -0.009763          -0.008041    -0.005286  \n",
       "cat_FAMILY                          -0.060557          -0.049878    -0.032788  \n",
       "cat_FINANCE                         -0.022925          -0.018882    -0.012413  \n",
       "cat_FOOD_AND_DRINK                  -0.012957          -0.010672    -0.007016  \n",
       "cat_GAME                            -0.043160          -0.035549    -0.023369  \n",
       "cat_HEALTH_AND_FITNESS              -0.021216          -0.017474    -0.011487  \n",
       "cat_HOUSE_AND_HOME                  -0.010669          -0.008788    -0.005777  \n",
       "cat_LIBRARIES_AND_DEMO              -0.011724          -0.009656    -0.006348  \n",
       "cat_LIFESTYLE                       -0.024346          -0.020053    -0.013182  \n",
       "cat_MAPS_AND_NAVIGATION             -0.013471          -0.011095    -0.007294  \n",
       "cat_MEDICAL                         -0.027423          -0.022587    -0.014848  \n",
       "cat_NEWS_AND_MAGAZINES              -0.019147          -0.015770    -0.010367  \n",
       "cat_PARENTING                       -0.009501          -0.007826    -0.005144  \n",
       "cat_PERSONALIZATION                 -0.024709          -0.020351    -0.013378  \n",
       "cat_PHOTOGRAPHY                     -0.020800          -0.017132    -0.011262  \n",
       "cat_PRODUCTIVITY                    -0.022771          -0.018755    -0.012329  \n",
       "cat_SHOPPING                        -0.018457          -0.015202    -0.009993  \n",
       "cat_SOCIAL                          -0.018874          -0.015545    -0.010219  \n",
       "cat_SPORTS                          -0.023078          -0.019008    -0.012496  \n",
       "cat_TOOLS                           -0.036321          -0.029916    -0.019666  \n",
       "cat_TRAVEL_AND_LOCAL                 1.000000          -0.014852    -0.009763  \n",
       "cat_VIDEO_PLAYERS                   -0.014852           1.000000    -0.008041  \n",
       "cat_WEATHER                         -0.009763          -0.008041     1.000000  \n",
       "\n",
       "[40 rows x 40 columns]"
      ]
     },
     "execution_count": 40,
     "metadata": {},
     "output_type": "execute_result"
    }
   ],
   "source": [
    "df.corr()"
   ]
  },
  {
   "cell_type": "markdown",
   "metadata": {},
   "source": [
    "Teste de hipótese - média da acurácia"
   ]
  },
  {
   "cell_type": "code",
   "execution_count": 41,
   "metadata": {
    "pycharm": {
     "is_executing": false
    }
   },
   "outputs": [
    {
     "name": "stdout",
     "output_type": "stream",
     "text": [
      "Acurácia WILCOXON 0.0 4.320463057827488e-08\n"
     ]
    }
   ],
   "source": [
    "accuracy_knn_sample = np.repeat(np.round(knn_accuracy*100, 2), 30)\n",
    "accuracy_rf_sample = np.repeat(np.round(rf_accuracy*100, 2), 30)\n",
    "\n",
    "stat_knn, p_knn = wilcoxon(accuracy_knn_sample, accuracy_rf_sample);\n",
    "print('Acurácia WILCOXON', stat_knn, p_knn);"
   ]
  },
  {
   "cell_type": "markdown",
   "metadata": {},
   "source": [
    "Teste de hipótese - RMSE"
   ]
  },
  {
   "cell_type": "code",
   "execution_count": 42,
   "metadata": {
    "pycharm": {
     "is_executing": false
    }
   },
   "outputs": [
    {
     "name": "stdout",
     "output_type": "stream",
     "text": [
      "RMSE WILCOXON 0.0 4.320463057827488e-08\n"
     ]
    }
   ],
   "source": [
    "rmse_knn_sample = np.repeat(metrics.mean_squared_error(y_test, knn_predictions), 30)\n",
    "rmse_rf_sample = np.repeat(metrics.mean_squared_error(y_test, rf_predictions), 30)\n",
    "\n",
    "stat_rf, p_rf = wilcoxon(rmse_knn_sample, rmse_rf_sample);\n",
    "print('RMSE WILCOXON', stat_rf, p_rf);"
   ]
  },
  {
   "cell_type": "code",
   "execution_count": null,
   "metadata": {},
   "outputs": [],
   "source": []
  }
 ],
 "metadata": {
  "kernelspec": {
   "display_name": "GooglePlayStats",
   "language": "python",
   "name": "googleplaystats"
  },
  "language_info": {
   "codemirror_mode": {
    "name": "ipython",
    "version": 3
   },
   "file_extension": ".py",
   "mimetype": "text/x-python",
   "name": "python",
   "nbconvert_exporter": "python",
   "pygments_lexer": "ipython3",
   "version": "3.7.5"
  },
  "pycharm": {
   "stem_cell": {
    "cell_type": "raw",
    "metadata": {
     "collapsed": false
    },
    "source": []
   }
  }
 },
 "nbformat": 4,
 "nbformat_minor": 1
}
